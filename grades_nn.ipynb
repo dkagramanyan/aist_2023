{
 "cells": [
  {
   "cell_type": "code",
   "execution_count": 1,
   "metadata": {
    "ExecuteTime": {
     "end_time": "2023-07-19T11:48:54.600740300Z",
     "start_time": "2023-07-19T11:48:54.585937700Z"
    },
    "tags": []
   },
   "outputs": [
    {
     "name": "stderr",
     "output_type": "stream",
     "text": [
      "C:\\anaconda3\\envs\\torch\\lib\\site-packages\\umap\\distances.py:1063: NumbaDeprecationWarning: \u001b[1mThe 'nopython' keyword argument was not supplied to the 'numba.jit' decorator. The implicit default value for this argument is currently False, but it will be changed to True in Numba 0.59.0. See https://numba.readthedocs.io/en/stable/reference/deprecation.html#deprecation-of-object-mode-fall-back-behaviour-when-using-jit for details.\u001b[0m\n",
      "  @numba.jit()\n",
      "C:\\anaconda3\\envs\\torch\\lib\\site-packages\\umap\\distances.py:1071: NumbaDeprecationWarning: \u001b[1mThe 'nopython' keyword argument was not supplied to the 'numba.jit' decorator. The implicit default value for this argument is currently False, but it will be changed to True in Numba 0.59.0. See https://numba.readthedocs.io/en/stable/reference/deprecation.html#deprecation-of-object-mode-fall-back-behaviour-when-using-jit for details.\u001b[0m\n",
      "  @numba.jit()\n",
      "C:\\anaconda3\\envs\\torch\\lib\\site-packages\\umap\\distances.py:1086: NumbaDeprecationWarning: \u001b[1mThe 'nopython' keyword argument was not supplied to the 'numba.jit' decorator. The implicit default value for this argument is currently False, but it will be changed to True in Numba 0.59.0. See https://numba.readthedocs.io/en/stable/reference/deprecation.html#deprecation-of-object-mode-fall-back-behaviour-when-using-jit for details.\u001b[0m\n",
      "  @numba.jit()\n",
      "C:\\anaconda3\\envs\\torch\\lib\\site-packages\\umap\\umap_.py:660: NumbaDeprecationWarning: \u001b[1mThe 'nopython' keyword argument was not supplied to the 'numba.jit' decorator. The implicit default value for this argument is currently False, but it will be changed to True in Numba 0.59.0. See https://numba.readthedocs.io/en/stable/reference/deprecation.html#deprecation-of-object-mode-fall-back-behaviour-when-using-jit for details.\u001b[0m\n",
      "  @numba.jit()\n"
     ]
    }
   ],
   "source": [
    "from matplotlib import pyplot as plt\n",
    "import numpy as np\n",
    "import pandas as pd\n",
    "import umap\n",
    "\n",
    "from sklearn.ensemble import RandomForestRegressor, RandomForestClassifier\n",
    "from sklearn.datasets import make_regression\n",
    "from sklearn import metrics\n",
    "\n",
    "from sklearn.model_selection import train_test_split"
   ]
  },
  {
   "cell_type": "code",
   "execution_count": 2,
   "metadata": {},
   "outputs": [
    {
     "data": {
      "text/plain": [
       "Index(['id', 'surname', 'name', 'code', 'orthography', 'punctuation', 'grade',\n",
       "       'aligned_doc', 'type', 'surname_doc', 'name_doc', 'code_doc',\n",
       "       'fractal_dim', 'space_length_std', 'space_length_mean',\n",
       "       'word_width_mean', 'word_height_mean', 'word_width_std',\n",
       "       'word_height_std'],\n",
       "      dtype='object')"
      ]
     },
     "execution_count": 2,
     "metadata": {},
     "output_type": "execute_result"
    }
   ],
   "source": [
    "df=pd.read_csv('grades.csv').dropna()\n",
    "df.columns"
   ]
  },
  {
   "cell_type": "code",
   "execution_count": 15,
   "metadata": {},
   "outputs": [
    {
     "data": {
      "text/html": [
       "<div>\n",
       "<style scoped>\n",
       "    .dataframe tbody tr th:only-of-type {\n",
       "        vertical-align: middle;\n",
       "    }\n",
       "\n",
       "    .dataframe tbody tr th {\n",
       "        vertical-align: top;\n",
       "    }\n",
       "\n",
       "    .dataframe thead th {\n",
       "        text-align: right;\n",
       "    }\n",
       "</style>\n",
       "<table border=\"1\" class=\"dataframe\">\n",
       "  <thead>\n",
       "    <tr style=\"text-align: right;\">\n",
       "      <th></th>\n",
       "      <th>id</th>\n",
       "      <th>surname</th>\n",
       "      <th>name</th>\n",
       "      <th>code</th>\n",
       "      <th>orthography</th>\n",
       "      <th>punctuation</th>\n",
       "      <th>grade</th>\n",
       "      <th>aligned_doc</th>\n",
       "      <th>type</th>\n",
       "      <th>surname_doc</th>\n",
       "      <th>name_doc</th>\n",
       "      <th>code_doc</th>\n",
       "      <th>fractal_dim</th>\n",
       "      <th>space_length_std</th>\n",
       "      <th>space_length_mean</th>\n",
       "      <th>word_width_mean</th>\n",
       "      <th>word_height_mean</th>\n",
       "      <th>word_width_std</th>\n",
       "      <th>word_height_std</th>\n",
       "    </tr>\n",
       "  </thead>\n",
       "  <tbody>\n",
       "    <tr>\n",
       "      <th>0</th>\n",
       "      <td>66717_1</td>\n",
       "      <td>харитонова</td>\n",
       "      <td>анастасия</td>\n",
       "      <td>чернослив</td>\n",
       "      <td>0.0</td>\n",
       "      <td>1.0</td>\n",
       "      <td>5</td>\n",
       "      <td>True</td>\n",
       "      <td>msk23</td>\n",
       "      <td>True</td>\n",
       "      <td>True</td>\n",
       "      <td>True</td>\n",
       "      <td>1.420298</td>\n",
       "      <td>55.737369</td>\n",
       "      <td>53.603774</td>\n",
       "      <td>257.209327</td>\n",
       "      <td>50.055793</td>\n",
       "      <td>118.190194</td>\n",
       "      <td>8.883130</td>\n",
       "    </tr>\n",
       "    <tr>\n",
       "      <th>1</th>\n",
       "      <td>66717_2</td>\n",
       "      <td>рачкова</td>\n",
       "      <td>екатерина</td>\n",
       "      <td>анна</td>\n",
       "      <td>0.0</td>\n",
       "      <td>2.0</td>\n",
       "      <td>4</td>\n",
       "      <td>True</td>\n",
       "      <td>msk23</td>\n",
       "      <td>True</td>\n",
       "      <td>True</td>\n",
       "      <td>True</td>\n",
       "      <td>1.575400</td>\n",
       "      <td>37.608957</td>\n",
       "      <td>24.038168</td>\n",
       "      <td>230.462712</td>\n",
       "      <td>53.179430</td>\n",
       "      <td>113.365492</td>\n",
       "      <td>7.599010</td>\n",
       "    </tr>\n",
       "    <tr>\n",
       "      <th>2</th>\n",
       "      <td>66717_3</td>\n",
       "      <td>ефимова</td>\n",
       "      <td>елена</td>\n",
       "      <td>превосходно</td>\n",
       "      <td>4.0</td>\n",
       "      <td>5.0</td>\n",
       "      <td>2</td>\n",
       "      <td>True</td>\n",
       "      <td>msk23</td>\n",
       "      <td>True</td>\n",
       "      <td>True</td>\n",
       "      <td>True</td>\n",
       "      <td>1.534815</td>\n",
       "      <td>66.846088</td>\n",
       "      <td>49.040698</td>\n",
       "      <td>236.823072</td>\n",
       "      <td>53.649396</td>\n",
       "      <td>113.461925</td>\n",
       "      <td>9.138695</td>\n",
       "    </tr>\n",
       "    <tr>\n",
       "      <th>3</th>\n",
       "      <td>66717_4</td>\n",
       "      <td>деянова</td>\n",
       "      <td>юлия</td>\n",
       "      <td>асфальт</td>\n",
       "      <td>3.0</td>\n",
       "      <td>4.0</td>\n",
       "      <td>3</td>\n",
       "      <td>True</td>\n",
       "      <td>msk23</td>\n",
       "      <td>False</td>\n",
       "      <td>True</td>\n",
       "      <td>True</td>\n",
       "      <td>1.554644</td>\n",
       "      <td>80.166095</td>\n",
       "      <td>54.200000</td>\n",
       "      <td>233.258644</td>\n",
       "      <td>53.002609</td>\n",
       "      <td>117.492249</td>\n",
       "      <td>7.919873</td>\n",
       "    </tr>\n",
       "    <tr>\n",
       "      <th>4</th>\n",
       "      <td>66717_5</td>\n",
       "      <td>соловьева</td>\n",
       "      <td>нелля</td>\n",
       "      <td>счастье</td>\n",
       "      <td>1.0</td>\n",
       "      <td>3.0</td>\n",
       "      <td>4</td>\n",
       "      <td>True</td>\n",
       "      <td>msk23</td>\n",
       "      <td>True</td>\n",
       "      <td>True</td>\n",
       "      <td>True</td>\n",
       "      <td>1.501338</td>\n",
       "      <td>47.161881</td>\n",
       "      <td>42.583333</td>\n",
       "      <td>254.317524</td>\n",
       "      <td>54.462915</td>\n",
       "      <td>122.593031</td>\n",
       "      <td>8.481969</td>\n",
       "    </tr>\n",
       "    <tr>\n",
       "      <th>...</th>\n",
       "      <td>...</td>\n",
       "      <td>...</td>\n",
       "      <td>...</td>\n",
       "      <td>...</td>\n",
       "      <td>...</td>\n",
       "      <td>...</td>\n",
       "      <td>...</td>\n",
       "      <td>...</td>\n",
       "      <td>...</td>\n",
       "      <td>...</td>\n",
       "      <td>...</td>\n",
       "      <td>...</td>\n",
       "      <td>...</td>\n",
       "      <td>...</td>\n",
       "      <td>...</td>\n",
       "      <td>...</td>\n",
       "      <td>...</td>\n",
       "      <td>...</td>\n",
       "      <td>...</td>\n",
       "    </tr>\n",
       "    <tr>\n",
       "      <th>21296</th>\n",
       "      <td>00437_76</td>\n",
       "      <td>гатальская</td>\n",
       "      <td>светлана</td>\n",
       "      <td>красота</td>\n",
       "      <td>1.0</td>\n",
       "      <td>0.0</td>\n",
       "      <td>4</td>\n",
       "      <td>True</td>\n",
       "      <td>nov23</td>\n",
       "      <td>True</td>\n",
       "      <td>True</td>\n",
       "      <td>True</td>\n",
       "      <td>1.539883</td>\n",
       "      <td>15.930888</td>\n",
       "      <td>29.223140</td>\n",
       "      <td>292.940155</td>\n",
       "      <td>57.229071</td>\n",
       "      <td>132.518859</td>\n",
       "      <td>7.923943</td>\n",
       "    </tr>\n",
       "    <tr>\n",
       "      <th>21297</th>\n",
       "      <td>00437_77</td>\n",
       "      <td>войлошникова</td>\n",
       "      <td>ольга</td>\n",
       "      <td>астра</td>\n",
       "      <td>0.0</td>\n",
       "      <td>2.0</td>\n",
       "      <td>4</td>\n",
       "      <td>True</td>\n",
       "      <td>nov23</td>\n",
       "      <td>True</td>\n",
       "      <td>True</td>\n",
       "      <td>True</td>\n",
       "      <td>1.539795</td>\n",
       "      <td>29.028023</td>\n",
       "      <td>33.414508</td>\n",
       "      <td>198.436039</td>\n",
       "      <td>51.433014</td>\n",
       "      <td>94.091875</td>\n",
       "      <td>7.310495</td>\n",
       "    </tr>\n",
       "    <tr>\n",
       "      <th>21298</th>\n",
       "      <td>00437_78</td>\n",
       "      <td>колеватова</td>\n",
       "      <td>елена</td>\n",
       "      <td>доброта</td>\n",
       "      <td>1.0</td>\n",
       "      <td>6.0</td>\n",
       "      <td>3</td>\n",
       "      <td>True</td>\n",
       "      <td>nov23</td>\n",
       "      <td>True</td>\n",
       "      <td>True</td>\n",
       "      <td>True</td>\n",
       "      <td>1.470746</td>\n",
       "      <td>57.210077</td>\n",
       "      <td>43.472362</td>\n",
       "      <td>187.462682</td>\n",
       "      <td>49.653891</td>\n",
       "      <td>87.705171</td>\n",
       "      <td>7.940040</td>\n",
       "    </tr>\n",
       "    <tr>\n",
       "      <th>21299</th>\n",
       "      <td>00437_79</td>\n",
       "      <td>капитонова</td>\n",
       "      <td>татьяна</td>\n",
       "      <td>татьяна</td>\n",
       "      <td>3.0</td>\n",
       "      <td>7.0</td>\n",
       "      <td>2</td>\n",
       "      <td>True</td>\n",
       "      <td>nov23</td>\n",
       "      <td>True</td>\n",
       "      <td>True</td>\n",
       "      <td>True</td>\n",
       "      <td>1.460825</td>\n",
       "      <td>67.955820</td>\n",
       "      <td>34.196347</td>\n",
       "      <td>183.167757</td>\n",
       "      <td>48.136509</td>\n",
       "      <td>88.427869</td>\n",
       "      <td>8.937027</td>\n",
       "    </tr>\n",
       "    <tr>\n",
       "      <th>21300</th>\n",
       "      <td>00437_80</td>\n",
       "      <td>сечина</td>\n",
       "      <td>юлия</td>\n",
       "      <td>абзац</td>\n",
       "      <td>3.0</td>\n",
       "      <td>12.0</td>\n",
       "      <td>2</td>\n",
       "      <td>True</td>\n",
       "      <td>nov23</td>\n",
       "      <td>True</td>\n",
       "      <td>True</td>\n",
       "      <td>True</td>\n",
       "      <td>1.415404</td>\n",
       "      <td>44.907464</td>\n",
       "      <td>47.654054</td>\n",
       "      <td>221.982554</td>\n",
       "      <td>47.318658</td>\n",
       "      <td>111.078933</td>\n",
       "      <td>9.381811</td>\n",
       "    </tr>\n",
       "  </tbody>\n",
       "</table>\n",
       "<p>20607 rows × 19 columns</p>\n",
       "</div>"
      ],
      "text/plain": [
       "             id       surname       name         code  orthography  \\\n",
       "0       66717_1    харитонова  анастасия    чернослив          0.0   \n",
       "1       66717_2       рачкова  екатерина         анна          0.0   \n",
       "2       66717_3       ефимова      елена  превосходно          4.0   \n",
       "3       66717_4       деянова       юлия      асфальт          3.0   \n",
       "4       66717_5     соловьева      нелля      счастье          1.0   \n",
       "...         ...           ...        ...          ...          ...   \n",
       "21296  00437_76    гатальская   светлана      красота          1.0   \n",
       "21297  00437_77  войлошникова      ольга        астра          0.0   \n",
       "21298  00437_78    колеватова      елена      доброта          1.0   \n",
       "21299  00437_79    капитонова    татьяна      татьяна          3.0   \n",
       "21300  00437_80        сечина       юлия        абзац          3.0   \n",
       "\n",
       "       punctuation  grade  aligned_doc   type surname_doc name_doc code_doc  \\\n",
       "0              1.0      5         True  msk23        True     True     True   \n",
       "1              2.0      4         True  msk23        True     True     True   \n",
       "2              5.0      2         True  msk23        True     True     True   \n",
       "3              4.0      3         True  msk23       False     True     True   \n",
       "4              3.0      4         True  msk23        True     True     True   \n",
       "...            ...    ...          ...    ...         ...      ...      ...   \n",
       "21296          0.0      4         True  nov23        True     True     True   \n",
       "21297          2.0      4         True  nov23        True     True     True   \n",
       "21298          6.0      3         True  nov23        True     True     True   \n",
       "21299          7.0      2         True  nov23        True     True     True   \n",
       "21300         12.0      2         True  nov23        True     True     True   \n",
       "\n",
       "       fractal_dim  space_length_std  space_length_mean  word_width_mean  \\\n",
       "0         1.420298         55.737369          53.603774       257.209327   \n",
       "1         1.575400         37.608957          24.038168       230.462712   \n",
       "2         1.534815         66.846088          49.040698       236.823072   \n",
       "3         1.554644         80.166095          54.200000       233.258644   \n",
       "4         1.501338         47.161881          42.583333       254.317524   \n",
       "...            ...               ...                ...              ...   \n",
       "21296     1.539883         15.930888          29.223140       292.940155   \n",
       "21297     1.539795         29.028023          33.414508       198.436039   \n",
       "21298     1.470746         57.210077          43.472362       187.462682   \n",
       "21299     1.460825         67.955820          34.196347       183.167757   \n",
       "21300     1.415404         44.907464          47.654054       221.982554   \n",
       "\n",
       "       word_height_mean  word_width_std  word_height_std  \n",
       "0             50.055793      118.190194         8.883130  \n",
       "1             53.179430      113.365492         7.599010  \n",
       "2             53.649396      113.461925         9.138695  \n",
       "3             53.002609      117.492249         7.919873  \n",
       "4             54.462915      122.593031         8.481969  \n",
       "...                 ...             ...              ...  \n",
       "21296         57.229071      132.518859         7.923943  \n",
       "21297         51.433014       94.091875         7.310495  \n",
       "21298         49.653891       87.705171         7.940040  \n",
       "21299         48.136509       88.427869         8.937027  \n",
       "21300         47.318658      111.078933         9.381811  \n",
       "\n",
       "[20607 rows x 19 columns]"
      ]
     },
     "execution_count": 15,
     "metadata": {},
     "output_type": "execute_result"
    }
   ],
   "source": [
    "df"
   ]
  },
  {
   "cell_type": "code",
   "execution_count": 174,
   "metadata": {},
   "outputs": [],
   "source": [
    "reducer = umap.UMAP()\n",
    "embedding = reducer.fit_transform(df[['grade','orthography', 'punctuation','fractal_dim', 'space_length_std', 'space_length_mean',\n",
    "       'word_width_mean', 'word_height_mean', 'word_width_std', 'word_height_std']])"
   ]
  },
  {
   "cell_type": "code",
   "execution_count": 175,
   "metadata": {},
   "outputs": [
    {
     "data": {
      "image/png": "[encoded data removed]",
      "text/plain": [
       "<Figure size 640x480 with 1 Axes>"
      ]
     },
     "metadata": {},
     "output_type": "display_data"
    }
   ],
   "source": [
    "plt.\n",
    "plt.scatter(embedding[:,0],embedding[:,1])\n",
    "plt.show()"
   ]
  },
  {
   "cell_type": "markdown",
   "metadata": {},
   "source": [
    "## Random forest"
   ]
  },
  {
   "cell_type": "code",
   "execution_count": 3,
   "metadata": {},
   "outputs": [
    {
     "name": "stderr",
     "output_type": "stream",
     "text": [
      "C:\\Users\\Администратор\\AppData\\Local\\Temp\\ipykernel_12020\\2495977334.py:2: SettingWithCopyWarning: \n",
      "A value is trying to be set on a copy of a slice from a DataFrame.\n",
      "Try using .loc[row_indexer,col_indexer] = value instead\n",
      "\n",
      "See the caveats in the documentation: https://pandas.pydata.org/pandas-docs/stable/user_guide/indexing.html#returning-a-view-versus-a-copy\n",
      "  df_all['grade']=df_all['grade']>3\n",
      "C:\\Users\\Администратор\\AppData\\Local\\Temp\\ipykernel_12020\\2495977334.py:3: SettingWithCopyWarning: \n",
      "A value is trying to be set on a copy of a slice from a DataFrame.\n",
      "Try using .loc[row_indexer,col_indexer] = value instead\n",
      "\n",
      "See the caveats in the documentation: https://pandas.pydata.org/pandas-docs/stable/user_guide/indexing.html#returning-a-view-versus-a-copy\n",
      "  df_all['grade']=df_all['grade'].astype(np.uint8)\n"
     ]
    }
   ],
   "source": [
    "df_all=df[(df.orthography<30) & (df.punctuation <30)]\n",
    "df_all['grade']=df_all['grade']>3\n",
    "df_all['grade']=df_all['grade'].astype(np.uint8)\n",
    "\n",
    "df_tmp=df_all[df_all.grade==0].iloc[:6000]\n",
    "df_all=df_all[df_all.grade!=0]\n",
    "\n",
    "df_dataset=pd.concat([df_all, df_tmp])\n",
    "\n",
    "x=df_dataset[['fractal_dim', 'space_length_std', 'space_length_mean',\n",
    "       'word_width_mean', 'word_height_mean', 'word_width_std',\n",
    "       'word_height_std']]\n",
    "x=(x-x.mean())/x.std()\n",
    "\n",
    "\n",
    "# y=df_tmp[['orthography', 'punctuation']]\n",
    "y=df_dataset['grade']\n",
    "\n",
    "\n",
    "\n",
    "\n",
    "# y=(y-y.mean())/y.std()\n",
    "# y=(y-y.min())/(y.max()-y.min())\n",
    "\n",
    "x_train, x_test, y_train, y_test = train_test_split(x, y, test_size=0.1)"
   ]
  },
  {
   "cell_type": "code",
   "execution_count": 208,
   "metadata": {},
   "outputs": [
    {
     "data": {
      "text/plain": [
       "(array([6000.,    0.,    0.,    0.,    0.,    0.,    0.,    0.,    0.,\n",
       "        5979.]),\n",
       " array([0. , 0.1, 0.2, 0.3, 0.4, 0.5, 0.6, 0.7, 0.8, 0.9, 1. ]),\n",
       " <BarContainer object of 10 artists>)"
      ]
     },
     "execution_count": 208,
     "metadata": {},
     "output_type": "execute_result"
    },
    {
     "data": {
      "image/png": "[encoded data removed]",
      "text/plain": [
       "<Figure size 640x480 with 1 Axes>"
      ]
     },
     "metadata": {},
     "output_type": "display_data"
    }
   ],
   "source": [
    "plt.hist(y)"
   ]
  },
  {
   "cell_type": "code",
   "execution_count": 218,
   "metadata": {},
   "outputs": [
    {
     "data": {
      "text/plain": [
       "0.6210350584307178"
      ]
     },
     "execution_count": 218,
     "metadata": {},
     "output_type": "execute_result"
    }
   ],
   "source": [
    "rf = RandomForestClassifier(max_depth=50, random_state=0)\n",
    "rf.fit(x_train, y_train)\n",
    "rf.score(x_test,y_test)"
   ]
  },
  {
   "cell_type": "code",
   "execution_count": 229,
   "metadata": {},
   "outputs": [
    {
     "data": {
      "text/plain": [
       "array([0.13306838, 0.16671263, 0.1276357 , 0.1463809 , 0.15270557,\n",
       "       0.14302044, 0.13047637])"
      ]
     },
     "execution_count": 229,
     "metadata": {},
     "output_type": "execute_result"
    }
   ],
   "source": [
    "rf.feature_importances_"
   ]
  },
  {
   "cell_type": "code",
   "execution_count": 230,
   "metadata": {},
   "outputs": [
    {
     "name": "stdout",
     "output_type": "stream",
     "text": [
      "[[0.33222037 0.15108514]\n",
      " [0.2278798  0.28881469]] \n",
      "\n",
      "              precision    recall  f1-score   support\n",
      "\n",
      "           0       0.59      0.69      0.64       579\n",
      "           1       0.66      0.56      0.60       619\n",
      "\n",
      "    accuracy                           0.62      1198\n",
      "   macro avg       0.62      0.62      0.62      1198\n",
      "weighted avg       0.63      0.62      0.62      1198\n",
      "\n"
     ]
    }
   ],
   "source": [
    "predicted=rf.predict(x_test)\n",
    "m=metrics.confusion_matrix(y_test,predicted)\n",
    "m=m/np.sum(m)\n",
    "print(m,'\\n')\n",
    "print(metrics.classification_report(y_test,predicted))"
   ]
  },
  {
   "cell_type": "markdown",
   "metadata": {},
   "source": [
    "## XGBoost"
   ]
  },
  {
   "cell_type": "code",
   "execution_count": 5,
   "metadata": {},
   "outputs": [],
   "source": [
    "from xgboost import XGBClassifier, XGBRegressor\n",
    "from sklearn.preprocessing import LabelEncoder"
   ]
  },
  {
   "cell_type": "code",
   "execution_count": 6,
   "metadata": {},
   "outputs": [
    {
     "data": {
      "text/plain": [
       "0.6035058430717863"
      ]
     },
     "execution_count": 6,
     "metadata": {},
     "output_type": "execute_result"
    }
   ],
   "source": [
    "bst = XGBClassifier(n_estimators=400, max_depth=30, learning_rate=1)\n",
    "# bst = XGBRegressor(n_estimators=400, max_depth=30, learning_rate=1)\n",
    "\n",
    "le = LabelEncoder()\n",
    "y_train = le.fit_transform(y_train)\n",
    "y_test = le.fit_transform(y_test)\n",
    "\n",
    "bst.fit(x_train, y_train)\n",
    "\n",
    "bst.score(x_test,y_test)"
   ]
  },
  {
   "cell_type": "code",
   "execution_count": 7,
   "metadata": {},
   "outputs": [
    {
     "data": {
      "text/plain": [
       "array([0.13123724, 0.17177488, 0.1215875 , 0.15172082, 0.15561591,\n",
       "       0.14818573, 0.11987801], dtype=float32)"
      ]
     },
     "execution_count": 7,
     "metadata": {},
     "output_type": "execute_result"
    }
   ],
   "source": [
    "bst.feature_importances_"
   ]
  },
  {
   "cell_type": "code",
   "execution_count": 8,
   "metadata": {},
   "outputs": [
    {
     "name": "stdout",
     "output_type": "stream",
     "text": [
      "[[0.3096828  0.19616027]\n",
      " [0.20033389 0.29382304]] \n",
      "\n",
      "              precision    recall  f1-score   support\n",
      "\n",
      "           0       0.61      0.61      0.61       606\n",
      "           1       0.60      0.59      0.60       592\n",
      "\n",
      "    accuracy                           0.60      1198\n",
      "   macro avg       0.60      0.60      0.60      1198\n",
      "weighted avg       0.60      0.60      0.60      1198\n",
      "\n"
     ]
    }
   ],
   "source": [
    "predicted=bst.predict(x_test)\n",
    "m=metrics.confusion_matrix(y_test,predicted)\n",
    "m=m/np.sum(m)\n",
    "print(m,'\\n')\n",
    "print(metrics.classification_report(y_test,predicted))"
   ]
  },
  {
   "cell_type": "markdown",
   "metadata": {},
   "source": [
    "## NN"
   ]
  },
  {
   "cell_type": "code",
   "execution_count": 221,
   "metadata": {},
   "outputs": [],
   "source": [
    "from sklearn.neural_network import  MLPClassifier"
   ]
  },
  {
   "cell_type": "code",
   "execution_count": 222,
   "metadata": {},
   "outputs": [
    {
     "data": {
      "text/plain": [
       "0.6352253756260434"
      ]
     },
     "execution_count": 222,
     "metadata": {},
     "output_type": "execute_result"
    }
   ],
   "source": [
    "regr = MLPClassifier(random_state=1, max_iter=1000, hidden_layer_sizes=512).fit(x_train, y_train)\n",
    "regr.score(x_test, y_test)"
   ]
  },
  {
   "cell_type": "code",
   "execution_count": 228,
   "metadata": {},
   "outputs": [
    {
     "name": "stdout",
     "output_type": "stream",
     "text": [
      "[[0.36811352 0.11519199]\n",
      " [0.24958264 0.26711185]] \n",
      "\n",
      "              precision    recall  f1-score   support\n",
      "\n",
      "           0       0.60      0.76      0.67       579\n",
      "           1       0.70      0.52      0.59       619\n",
      "\n",
      "    accuracy                           0.64      1198\n",
      "   macro avg       0.65      0.64      0.63      1198\n",
      "weighted avg       0.65      0.64      0.63      1198\n",
      "\n"
     ]
    }
   ],
   "source": [
    "predicted=regr.predict(x_test)\n",
    "m=metrics.confusion_matrix(y_test,predicted)\n",
    "m=m/np.sum(m)\n",
    "print(m,'\\n')\n",
    "print(metrics.classification_report(y_test,predicted))"
   ]
  },
  {
   "cell_type": "code",
   "execution_count": null,
   "metadata": {},
   "outputs": [],
   "source": []
  }
 ],
 "metadata": {
  "kernelspec": {
   "display_name": "torch",
   "language": "python",
   "name": "torch"
  },
  "language_info": {
   "codemirror_mode": {
    "name": "ipython",
    "version": 3
   },
   "file_extension": ".py",
   "mimetype": "text/x-python",
   "name": "python",
   "nbconvert_exporter": "python",
   "pygments_lexer": "ipython3",
   "version": "3.10.12"
  }
 },
 "nbformat": 4,
 "nbformat_minor": 4
}
