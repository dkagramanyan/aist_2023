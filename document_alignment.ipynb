{
 "cells": [
  {
   "cell_type": "code",
   "execution_count": null,
   "metadata": {
    "collapsed": true
   },
   "outputs": [],
   "source": [
    "import numpy as np\n",
    "import cv2\n",
    "import glob\n",
    "from tqdm.notebook import tqdm\n",
    "import imutils\n",
    "\n",
    "from numba import jit\n"
   ]
  },
  {
   "cell_type": "code",
   "execution_count": null,
   "outputs": [],
   "source": [
    "def align_images(image,template,  templateGray, maxFeatures=5000, keepPercent=0.3,\n",
    "                 debug=False):\n",
    "    # convert both the input image and template to grayscale\n",
    "    imageGray = cv2.cvtColor(image, cv2.COLOR_BGR2GRAY)\n",
    "    # use ORB to detect keypoints and extract (binary) local\n",
    "    # invariant features\n",
    "    orb = cv2.ORB_create(maxFeatures)\n",
    "    (kpsA, descsA) = orb.detectAndCompute(imageGray, None)\n",
    "    (kpsB, descsB) = orb.detectAndCompute(templateGray, None)\n",
    "    # match the features\n",
    "    method = cv2.DESCRIPTOR_MATCHER_BRUTEFORCE_HAMMING\n",
    "    matcher = cv2.DescriptorMatcher_create(method)\n",
    "    matches = matcher.match(descsA, descsB, None)\n",
    "    # sort the matches by their distance (the smaller the distance,\n",
    "    # the \"more similar\" the features are)\n",
    "    matches = sorted(matches, key=lambda x:x.distance)\n",
    "    # keep only the top matches\n",
    "    keep = int(len(matches) * keepPercent)\n",
    "    matches = matches[:keep]\n",
    "    # check to see if we should visualize the matched keypoints\n",
    "    matchedVis=None\n",
    "    if debug:\n",
    "        matchedVis = cv2.drawMatches(image, kpsA, template, kpsB,\n",
    "                                     matches, None)\n",
    "        matchedVis = imutils.resize(matchedVis, width=1000)\n",
    "\n",
    "    ptsA = np.zeros((len(matches), 2), dtype=\"float\")\n",
    "    ptsB = np.zeros((len(matches), 2), dtype=\"float\")\n",
    "    # loop over the top matches\n",
    "    for (i, m) in enumerate(matches):\n",
    "        # indicate that the two keypoints in the respective images\n",
    "        # map to each other\n",
    "        ptsA[i] = kpsA[m.queryIdx].pt\n",
    "        ptsB[i] = kpsB[m.trainIdx].pt\n",
    "    # compute the homography matrix between the two sets of matched\n",
    "    # points\n",
    "    (H, mask) = cv2.findHomography(ptsA, ptsB, method=cv2.RANSAC)\n",
    "    # use the homography matrix to align the images\n",
    "    (h, w) = template.shape[:2]\n",
    "    aligned = cv2.warpPerspective(image, H, (w, h))\n",
    "    # return the aligned image\n",
    "    return aligned, matchedVis"
   ],
   "metadata": {
    "collapsed": false
   }
  },
  {
   "cell_type": "code",
   "execution_count": null,
   "outputs": [],
   "source": [
    "\n",
    "files_paths=glob.glob('data/msk22/headers_jpg/*.jpg')\n",
    "files_paths=[path.replace('\\\\','/')for path in files_paths]\n",
    "\n",
    "# save_folder='data/headers_aligned_jpg/'\n",
    "save_folder='data/msk22/headers_aligned_jpg/'\n",
    "\n",
    "refFilename = \"msk22_ref_header_62263_5.jpg\"\n",
    "template = cv2.imread(refFilename, cv2.IMREAD_COLOR)\n",
    "\n",
    "templateGray = cv2.cvtColor(template, cv2.COLOR_BGR2GRAY)\n",
    "\n",
    "for path in tqdm(files_paths):\n",
    "    if '(' not in path and ')' not in path:\n",
    "        image = cv2.imread(path, cv2.IMREAD_COLOR)\n",
    "        try:\n",
    "            aligned, matchedVis = align_images(image,template, templateGray, debug=False)\n",
    "            save_name=save_folder+path.split('/')[-1][:-4]\n",
    "            if matchedVis is not None:\n",
    "                cv2.imwrite(save_name+'_debug.jpg', matchedVis)\n",
    "            cv2.imwrite(save_name+'.jpg', aligned)\n",
    "        except Exception:\n",
    "            pass"
   ],
   "metadata": {
    "collapsed": false
   }
  }
 ],
 "metadata": {
  "kernelspec": {
   "name": "tf2",
   "language": "python",
   "display_name": "tf2"
  },
  "language_info": {
   "codemirror_mode": {
    "name": "ipython",
    "version": 2
   },
   "file_extension": ".py",
   "mimetype": "text/x-python",
   "name": "python",
   "nbconvert_exporter": "python",
   "pygments_lexer": "ipython2",
   "version": "2.7.6"
  }
 },
 "nbformat": 4,
 "nbformat_minor": 0
}
