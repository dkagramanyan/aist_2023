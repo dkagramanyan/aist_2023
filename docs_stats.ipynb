{
 "cells": [
  {
   "cell_type": "code",
   "execution_count": null,
   "metadata": {
    "collapsed": true
   },
   "outputs": [],
   "source": [
    "import pandas as pd\n",
    "import numpy as np\n",
    "from tqdm.notebook import tqdm\n",
    "import glob\n",
    "\n",
    "from matplotlib import pyplot as plt\n",
    "import fitz\n",
    "import cv2"
   ]
  },
  {
   "cell_type": "markdown",
   "source": [
    "## Excel table convert  to dataframe"
   ],
   "metadata": {
    "collapsed": false
   }
  },
  {
   "cell_type": "code",
   "execution_count": null,
   "outputs": [],
   "source": [
    "tables_paths=glob.glob('data/nov23/tables/*.xlsx')\n",
    "data=[]\n",
    "for path in tqdm(tables_paths):\n",
    "    table=pd.read_excel(path)\n",
    "    keys=[0,2,3,4,6,7,8]\n",
    "    columns=np.array(list(table.columns))[keys]\n",
    "    table=table[columns]\n",
    "    table=table.values\n",
    "    new_table=[]\n",
    "\n",
    "    for i,line in enumerate(table):\n",
    "        if not pd.isnull(line[0]):\n",
    "            if '.pdf' in line[0]:\n",
    "                line[0]=line[0][:-4]\n",
    "            new_table.append(line)\n",
    "\n",
    "    data.extend(new_table)\n",
    "\n",
    "df=pd.DataFrame(data, columns=['id', 'surname', 'name', 'code', 'orthography','punctuation', 'grade'])\n",
    "\n",
    "df['orthography']=pd.to_numeric(df['orthography'], downcast='integer', errors='coerce')\n",
    "df['punctuation']=pd.to_numeric(df['punctuation'], downcast='integer', errors='coerce')\n",
    "\n",
    "del df['grade']\n",
    "\n",
    "df"
   ],
   "metadata": {
    "collapsed": false
   }
  },
  {
   "cell_type": "code",
   "execution_count": null,
   "outputs": [],
   "source": [
    "df.to_csv('gades_nov23.csv', index=False)"
   ],
   "metadata": {
    "collapsed": false
   }
  },
  {
   "cell_type": "markdown",
   "source": [
    "## Adding rule-based grades"
   ],
   "metadata": {
    "collapsed": false
   }
  },
  {
   "cell_type": "code",
   "execution_count": null,
   "outputs": [],
   "source": [
    "def marks2grade(orth, punc):\n",
    "    grade=0\n",
    "\n",
    "    if orth==0:\n",
    "        if punc<=1:\n",
    "            grade=5\n",
    "\n",
    "        elif punc<=4:\n",
    "            grade=4\n",
    "\n",
    "        elif punc<=8:\n",
    "            grade=3\n",
    "\n",
    "    elif orth==1:\n",
    "        if punc <=3:\n",
    "            grade=4\n",
    "        elif punc<=7:\n",
    "            grade=3\n",
    "    elif orth==2:\n",
    "        if punc<=2:\n",
    "            grade=4\n",
    "        elif punc<=6:\n",
    "            grade=3\n",
    "    elif orth==3:\n",
    "        if punc<=5:\n",
    "            grade=3\n",
    "    elif orth==4:\n",
    "        if punc<=4:\n",
    "            grade=3\n",
    "\n",
    "    if orth>4 or (orth+punc)>8:\n",
    "        grade=2\n",
    "\n",
    "    return grade"
   ],
   "metadata": {
    "collapsed": false
   }
  },
  {
   "cell_type": "code",
   "execution_count": null,
   "outputs": [],
   "source": [
    "grades=pd.read_csv('gades_nov23.csv')\n",
    "\n",
    "new_df=[]\n",
    "for line in tqdm(df.values):\n",
    "    gr=line[-1]\n",
    "    grades_line=grades[grades.id==line[0]].values\n",
    "    orth=line[4]\n",
    "    punc=line[5]\n",
    "    line=np.append(line, marks2grade(orth,punc))\n",
    "\n",
    "    new_df.append(line)\n",
    "\n",
    "new_df=pd.DataFrame(new_df, columns=['id', 'surname', 'name', 'code', 'orthography','punctuation', 'grade'])\n",
    "\n",
    "new_df['aligned_doc']=None\n",
    "new_df['type']='nov23'\n",
    "new_df=new_df.dropna(subset=['orthography','punctuation'])\n",
    "new_df.to_csv('grades_all.csv', index=False)\n",
    "new_df"
   ],
   "metadata": {
    "collapsed": false
   }
  },
  {
   "cell_type": "markdown",
   "source": [
    "1) -1 это отсутствие оценки\n",
    "2) 0 - статус \"проверено\" без оценки"
   ],
   "metadata": {
    "collapsed": false
   }
  },
  {
   "cell_type": "code",
   "execution_count": null,
   "outputs": [],
   "source": [
    "new_df['grade_true'].hist()\n",
    "plt.show()"
   ],
   "metadata": {
    "collapsed": false
   }
  }
 ],
 "metadata": {
  "kernelspec": {
   "name": "torch",
   "language": "python",
   "display_name": "torch"
  },
  "language_info": {
   "codemirror_mode": {
    "name": "ipython",
    "version": 2
   },
   "file_extension": ".py",
   "mimetype": "text/x-python",
   "name": "python",
   "nbconvert_exporter": "python",
   "pygments_lexer": "ipython2",
   "version": "2.7.6"
  }
 },
 "nbformat": 4,
 "nbformat_minor": 0
}
