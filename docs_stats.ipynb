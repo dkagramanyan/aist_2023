{
 "cells": [
  {
   "cell_type": "code",
   "execution_count": 177,
   "metadata": {
    "collapsed": true,
    "ExecuteTime": {
     "end_time": "2023-07-02T21:26:13.779782300Z",
     "start_time": "2023-07-02T21:26:13.767815Z"
    }
   },
   "outputs": [],
   "source": [
    "import pandas as pd\n",
    "import numpy as np\n",
    "from tqdm.notebook import tqdm\n",
    "import glob\n",
    "\n",
    "from matplotlib import pyplot as plt"
   ]
  },
  {
   "cell_type": "code",
   "execution_count": 70,
   "outputs": [
    {
     "data": {
      "text/plain": "  0%|          | 0/238 [00:00<?, ?it/s]",
      "application/vnd.jupyter.widget-view+json": {
       "version_major": 2,
       "version_minor": 0,
       "model_id": "937d0c8f21c14b94ae24fe30cc80dc22"
      }
     },
     "metadata": {},
     "output_type": "display_data"
    }
   ],
   "source": [
    "tables_paths=glob.glob('data/tables/*xlsx')\n",
    "data=[]\n",
    "for path in tqdm(tables_paths):\n",
    "    table=pd.read_excel(path)\n",
    "    keys=[0,2,3,4,6,7,8]\n",
    "    columns=np.array(list(table.columns))[keys]\n",
    "    table=table[columns]\n",
    "    table=table.values\n",
    "    new_table=[]\n",
    "\n",
    "    for i,line in enumerate(table):\n",
    "        if not pd.isnull(line[0]):\n",
    "            if '.pdf' in line[0]:\n",
    "                line[0]=line[0][:-4]\n",
    "            new_table.append(line)\n",
    "\n",
    "    data.extend(new_table)\n",
    "\n",
    "df=pd.DataFrame(data, columns=['id', 'surname', 'name', 'code', 'orthography','punctuation', 'grade'])\n",
    "\n",
    "df['orthography']=pd.to_numeric(df['orthography'], downcast='integer', errors='coerce')\n",
    "df['punctuation']=pd.to_numeric(df['punctuation'], downcast='integer', errors='coerce')\n",
    "\n",
    "df.to_csv('grades_orig.csv', index=False)"
   ],
   "metadata": {
    "collapsed": false,
    "ExecuteTime": {
     "end_time": "2023-07-02T18:54:31.795165400Z",
     "start_time": "2023-07-02T18:54:25.718908400Z"
    }
   }
  },
  {
   "cell_type": "code",
   "execution_count": 157,
   "outputs": [],
   "source": [
    "def marks2grade(orth, punc):\n",
    "    grade=0\n",
    "\n",
    "    if orth==0:\n",
    "        if punc<=1:\n",
    "            grade=5\n",
    "\n",
    "        elif punc<=4:\n",
    "            grade=4\n",
    "\n",
    "        elif punc<=8:\n",
    "            grade=3\n",
    "\n",
    "    elif orth==1:\n",
    "        if punc <=3:\n",
    "            grade=4\n",
    "        elif punc<=7:\n",
    "            grade=3\n",
    "    elif orth==2:\n",
    "        if punc<=2:\n",
    "            grade=4\n",
    "        elif punc<=6:\n",
    "            grade=3\n",
    "    elif orth==3:\n",
    "        if punc<=5:\n",
    "            grade=3\n",
    "    elif orth==4:\n",
    "        if punc<=4:\n",
    "            grade=3\n",
    "\n",
    "    if orth>4 or (orth+punc)>8:\n",
    "        grade=2\n",
    "\n",
    "    return grade"
   ],
   "metadata": {
    "collapsed": false,
    "ExecuteTime": {
     "end_time": "2023-07-02T21:07:18.656367400Z",
     "start_time": "2023-07-02T21:07:18.648389700Z"
    }
   }
  },
  {
   "cell_type": "code",
   "execution_count": 168,
   "outputs": [
    {
     "data": {
      "text/plain": "  0%|          | 0/8519 [00:00<?, ?it/s]",
      "application/vnd.jupyter.widget-view+json": {
       "version_major": 2,
       "version_minor": 0,
       "model_id": "8a23a13b55fb4681a358418dd78de496"
      }
     },
     "metadata": {},
     "output_type": "display_data"
    }
   ],
   "source": [
    "grades=pd.read_csv('file_names_grades.csv')\n",
    "\n",
    "new_df=[]\n",
    "for line in tqdm(df.values):\n",
    "    gr=line[-1]\n",
    "    grades_line=grades[grades.ids==line[0]].values\n",
    "\n",
    "    orth=line[4]\n",
    "    punc=line[5]\n",
    "    line[-1]=marks2grade(orth,punc)\n",
    "\n",
    "    if len(grades_line)>0:\n",
    "        line=np.append(line, grades_line[0][-1])\n",
    "        line=np.append(line, True)\n",
    "    else:\n",
    "        line=np.append(line, None)\n",
    "        line=np.append(line, False)\n",
    "\n",
    "\n",
    "    new_df.append(line)\n",
    "\n",
    "new_df=pd.DataFrame(new_df, columns=['id', 'surname', 'name', 'code', 'orthography','punctuation', 'grade_true','grade_cv', 'aligned_doc'])\n",
    "new_df['grade_cv']=pd.to_numeric(new_df['grade_cv'], downcast='integer', errors='coerce')\n",
    "new_df=new_df.dropna(subset=['orthography','punctuation'])\n",
    "new_df.to_csv('grades_all.csv', index=False)"
   ],
   "metadata": {
    "collapsed": false,
    "ExecuteTime": {
     "end_time": "2023-07-02T21:17:29.668572Z",
     "start_time": "2023-07-02T21:17:24.134289700Z"
    }
   }
  },
  {
   "cell_type": "markdown",
   "source": [
    "1) -1 это отсутствие оценки\n",
    "2) 0 - статус \"проверено\" без оценки"
   ],
   "metadata": {
    "collapsed": false
   }
  },
  {
   "cell_type": "code",
   "execution_count": 180,
   "outputs": [
    {
     "data": {
      "text/plain": "<Figure size 432x288 with 1 Axes>",
      "image/png": "[encoded data removed]"
     },
     "metadata": {
      "needs_background": "light"
     },
     "output_type": "display_data"
    }
   ],
   "source": [
    "new_df['grade_true'].hist()\n",
    "plt.show()"
   ],
   "metadata": {
    "collapsed": false,
    "ExecuteTime": {
     "end_time": "2023-07-02T21:26:34.765069600Z",
     "start_time": "2023-07-02T21:26:34.675276700Z"
    }
   }
  }
 ],
 "metadata": {
  "kernelspec": {
   "name": "torch",
   "language": "python",
   "display_name": "torch"
  },
  "language_info": {
   "codemirror_mode": {
    "name": "ipython",
    "version": 2
   },
   "file_extension": ".py",
   "mimetype": "text/x-python",
   "name": "python",
   "nbconvert_exporter": "python",
   "pygments_lexer": "ipython2",
   "version": "2.7.6"
  }
 },
 "nbformat": 4,
 "nbformat_minor": 0
}
