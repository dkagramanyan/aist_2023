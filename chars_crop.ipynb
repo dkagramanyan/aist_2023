{
 "cells": [
  {
   "cell_type": "code",
   "execution_count": null,
   "metadata": {
    "collapsed": true
   },
   "outputs": [],
   "source": [
    "import numpy as np\n",
    "from skimage import io, transform, color, filters\n",
    "from matplotlib import pyplot as plt\n",
    "from skimage.morphology import disk, ball\n",
    "from skimage.filters import threshold_otsu, median\n",
    "\n",
    "import cv2\n",
    "import glob\n",
    "from tqdm.notebook import tqdm\n",
    "\n",
    "from numba import jit\n",
    "import pandas as pd\n",
    "from scipy.signal import argrelextrema\n",
    "from statsmodels.tsa.api import SimpleExpSmoothing\n",
    "from scipy.signal import find_peaks\n",
    "\n",
    "from PIL import Image\n",
    "from skimage import measure\n",
    "import os"
   ]
  },
  {
   "cell_type": "markdown",
   "source": [
    "## Header crop"
   ],
   "metadata": {
    "collapsed": false
   }
  },
  {
   "cell_type": "code",
   "execution_count": null,
   "outputs": [],
   "source": [
    "images_path='data/msk22/blanks_aligned_jpg/'\n",
    "new_folder='data/msk22/headers_jpg/'\n",
    "\n",
    "files_paths=glob.glob('data/msk22/blanks_aligned_jpg/*.jpg')\n",
    "files_paths=[path.split('\\\\')[-1][:-4] for path in files_paths]\n",
    "\n",
    "for id in tqdm(files_paths):\n",
    "\n",
    "    img_path=images_path+id+'.jpg'\n",
    "    img=io.imread(img_path)\n",
    "    # msk22\n",
    "    img =img[230:748,75:1390]\n",
    "\n",
    "    # nov23\n",
    "    # img = img[185:725, 90:1400]\n",
    "\n",
    "    # msk 23\n",
    "    # img = img[212:740, 70:1350]\n",
    "\n",
    "    new_img_path=new_folder+id+'.jpg'\n",
    "    io.imsave(new_img_path, img)"
   ],
   "metadata": {
    "collapsed": false
   }
  },
  {
   "cell_type": "markdown",
   "source": [
    "## Update metadata"
   ],
   "metadata": {
    "collapsed": false
   }
  },
  {
   "cell_type": "code",
   "execution_count": null,
   "outputs": [],
   "source": [
    "df=pd.read_csv('grades.csv')\n",
    "\n",
    "new_df=[]\n",
    "\n",
    "files_paths=glob.glob('data/nov23/headers_aligned_jpg/*.jpg')\n",
    "files_paths=[path.split('\\\\')[-1][:-4] for path in files_paths]\n",
    "\n",
    "tmp_df=df[df.type=='nov23']\n",
    "for i in tqdm(range(len(tmp_df))):\n",
    "    id=tmp_df.iloc[i]['id']\n",
    "    if id in files_paths:\n",
    "        new_df.append(tmp_df.iloc[i])\n",
    "\n",
    "new_df=pd.DataFrame(new_df,columns=df.columns)\n",
    "new_df['aligned_doc']=True\n",
    "new_df.to_csv('grades_nov23.csv',index=False)"
   ],
   "metadata": {
    "collapsed": false
   }
  },
  {
   "cell_type": "code",
   "execution_count": null,
   "outputs": [],
   "source": [
    "df1=pd.read_csv('grades_nov23.csv')\n",
    "df2=pd.read_csv('grades_msk23.csv')\n",
    "df3=pd.read_csv('grades_msk22.csv')\n",
    "\n",
    "df=pd.concat([df1,df2,df3])\n",
    "\n",
    "df.to_csv('grades.csv')"
   ],
   "metadata": {
    "collapsed": false
   }
  },
  {
   "cell_type": "code",
   "execution_count": null,
   "outputs": [],
   "source": [
    "df"
   ],
   "metadata": {
    "collapsed": false
   }
  },
  {
   "cell_type": "markdown",
   "source": [
    "## Crop chars"
   ],
   "metadata": {
    "collapsed": false
   }
  },
  {
   "cell_type": "code",
   "execution_count": null,
   "outputs": [],
   "source": [
    "@jit(nopython=True)\n",
    "def frame_image(img, frame_width):\n",
    "    b = frame_width # border size in pixel\n",
    "    ny, nx = img.shape[0], img.shape[1] # resolution / number of pixels in x and y\n",
    "    framed_img = np.ones((b+ny+b, b+nx+b))\n",
    "    framed_img[b:-b, b:-b] = img\n",
    "    return framed_img"
   ],
   "metadata": {
    "collapsed": false
   }
  },
  {
   "cell_type": "code",
   "execution_count": null,
   "outputs": [],
   "source": [
    "def rgb2smyk(bgr):\n",
    "    bgrdash = bgr.astype(np.float32)/255.\n",
    "\n",
    "    # Calculate K as (1 - whatever is biggest out of Rdash, Gdash, Bdash)\n",
    "    K = 1 - np.max(bgrdash, axis=2)\n",
    "\n",
    "    # Calculate C\n",
    "    C = (1-bgrdash[...,2] - K)/(1-K)\n",
    "\n",
    "    # Calculate M\n",
    "    M = (1-bgrdash[...,1] - K)/(1-K)\n",
    "\n",
    "    # Calculate Y\n",
    "    Y = (1-bgrdash[...,0] - K)/(1-K)\n",
    "\n",
    "    K*=255\n",
    "    K=K.astype(np.uint8)\n",
    "\n",
    "    C*=255\n",
    "    C=C.astype(np.uint8)\n",
    "\n",
    "    M*=255\n",
    "    M=M.astype(np.uint8)\n",
    "\n",
    "    Y*=255\n",
    "    Y=Y.astype(np.uint8)\n",
    "\n",
    "    return C,M,Y,K"
   ],
   "metadata": {
    "collapsed": false
   }
  },
  {
   "cell_type": "code",
   "execution_count": null,
   "outputs": [],
   "source": [
    "def crop(gra_f):\n",
    "    x_max=[]\n",
    "    x_min=[]\n",
    "    flag=True\n",
    "    for k in range(2):\n",
    "        mean_pixel_column=[]\n",
    "        if k==0:\n",
    "            for j in range(gra_f.shape[1]):\n",
    "                pixels=[]\n",
    "                for i in range(gra_f.shape[0]):\n",
    "                    pixels.append(gra_f[i,j])\n",
    "                mean_pixel_column.append(np.mean(pixels))\n",
    "        else:\n",
    "            for j in range(gra_f.shape[0]):\n",
    "                pixels=[]\n",
    "                for i in range(gra_f.shape[1]):\n",
    "                    pixels.append(gra_f[j,i])\n",
    "                mean_pixel_column.append(np.mean(pixels))\n",
    "\n",
    "\n",
    "        deriv=np.gradient(mean_pixel_column)\n",
    "\n",
    "        fit1 = SimpleExpSmoothing(deriv).fit(smoothing_level=0.2,optimized=False).fittedvalues\n",
    "\n",
    "        peaks=find_peaks(fit1,)[0]\n",
    "        min_extremax=argrelextrema(fit1, np.less)[0]\n",
    "\n",
    "        if len(peaks)>0 and len(min_extremax)>0:\n",
    "            tmp_x_min=peaks[0]\n",
    "            tmp_x_max=min_extremax[-1]\n",
    "\n",
    "            x_max.append(tmp_x_max)\n",
    "            x_min.append(tmp_x_min)\n",
    "\n",
    "        else:\n",
    "            flag=False\n",
    "\n",
    "    return tuple(x_min), tuple(x_max), (flag)\n"
   ],
   "metadata": {
    "collapsed": false
   }
  },
  {
   "cell_type": "code",
   "execution_count": null,
   "outputs": [],
   "source": [
    "# img=io.imread('msk22_ref_header_62263_5.jpg')\n",
    "img=io.imread('62263_10.jpg')\n",
    "chars_num=9\n",
    "\n",
    "coords={'surname':[82,46], 'name':[215, 46], 'code':[348, 46]}\n",
    "width=45\n",
    "height=55\n",
    "step=6\n",
    "boundary_adj=3\n",
    "\n",
    "line_type='surname'\n",
    "x,y=coords[line_type]\n",
    "img=img[x-boundary_adj:x+boundary_adj+height, y-boundary_adj:y+boundary_adj+width*chars_num+step*(chars_num-1)]\n",
    "\n",
    "(C, M, Y, K) = rgb2smyk(img)\n",
    "\n",
    "thresh, binaryImage = cv2.threshold(Y, 0, 255, cv2.THRESH_BINARY + cv2.THRESH_OTSU)\n",
    "\n",
    "label_image = measure.label(binaryImage)\n",
    "\n",
    "labels=np.sort(np.unique(label_image))\n",
    "labels_num=[len(np.where(label_image==label)[0]) for label in labels][1:]\n",
    "\n",
    "chars_labels=np.where(labels_num>np.mean(labels_num)/2)[0]+1\n",
    "chars_labels=np.append(chars_labels, 0)\n",
    "\n",
    "tmp_img=np.zeros(binaryImage.shape)\n",
    "for label in chars_labels:\n",
    "    tmp_img+=np.where(label_image==label, binaryImage, 0)\n",
    "\n",
    "imgs=[]\n",
    "\n",
    "img_width=tmp_img.shape[1]//chars_num\n",
    "for i in range(chars_num):\n",
    "    char_img=tmp_img[:,i*img_width:(i+1)*img_width]\n",
    "    if np.sum(char_img)!=0:\n",
    "        (y_min_h,y_min_v),(y_max_h,y_max_v)=crop(char_img)\n",
    "\n",
    "        N=5\n",
    "\n",
    "        y_min_h=y_min_h-N\n",
    "        if y_min_h<0:\n",
    "            y_min_h=0\n",
    "\n",
    "        y_min_v=y_min_v-N\n",
    "        if y_min_v<0:\n",
    "            y_min_v=0\n",
    "\n",
    "        char_img=char_img[y_min_v:y_max_v+N, y_min_h:y_max_h+N]\n",
    "    char_img=transform.resize(char_img, (32,32,1))\n",
    "    imgs.append(char_img)\n",
    "\n",
    "\n",
    "\n",
    "fig,axes=plt.subplots(1,3, figsize=(25,6))\n",
    "\n",
    "axes[0].imshow(img)\n",
    "axes[1].imshow(Y,cmap='gray')\n",
    "axes[2].imshow(tmp_img,cmap='gray')\n",
    "plt.show()\n",
    "\n",
    "fig,axes=plt.subplots(1,chars_num, figsize=(25,6))\n",
    "for i in range(chars_num):\n",
    "    axes[i].imshow(imgs[i],cmap='gray')\n",
    "\n",
    "plt.show()\n"
   ],
   "metadata": {
    "collapsed": false
   }
  },
  {
   "cell_type": "code",
   "execution_count": null,
   "outputs": [],
   "source": [
    "translit_dict = {'а' : 'a', 'б' : 'b', 'в' : 'v', 'г' : 'g', 'д' : 'd', 'е' : 'ye', 'ё' : 'yo', 'ж' : 'zh', 'з' : 'z', 'и' : 'i', 'й' : 'j', 'к' : 'k', 'л' : 'l', 'м' : 'm', 'н' : 'n', 'о' : 'o', 'п' : 'p', 'р' : 'r', 'с' : 's', 'т' : 't', 'у' : 'u', 'ф' : 'f', 'х' : 'kh', 'ц' : 'ts', 'ч' : 'ch', 'ш' : 'sh', 'щ' : 'sch', 'ъ' : 'tzn', 'ы' : 'y', 'ь' : 'mzn', 'э' : 'e', 'ю' : 'yu', 'я' : 'ya', '0':'0', '1':'1', '2':'2', '3':'3', '4':'4', '5':'5', '6':'6', '7':'7', '8':'8', '9':'9'}\n",
    "\n",
    "# msk22\n",
    "coords={'surname':[82,46], 'name':[215, 46], 'code':[348, 46]}\n",
    "\n",
    "# msk23\n",
    "# coords=[[87,49], [220, 49], [353, 49]]\n",
    "\n",
    "# nov23\n",
    "# coords=[[96,39], [228, 39], [363, 39]]\n",
    "\n",
    "width=45\n",
    "height=55\n",
    "\n",
    "step=6\n",
    "boundary_adj=3\n",
    "\n",
    "type='msk22'\n",
    "\n",
    "df=pd.read_csv('grades.csv')\n",
    "df_tmp=df[df.type==type]\n",
    "\n",
    "df_tmp['surname_doc']=None\n",
    "df_tmp['name_doc']=None\n",
    "df_tmp['code_doc']=None\n",
    "\n",
    "N=5\n",
    "\n",
    "for j in tqdm(range(len(df_tmp))):\n",
    "    id=df_tmp.iloc[j]['id']\n",
    "    img=io.imread(f'data/{type}/headers_aligned_jpg/{id}.jpg')\n",
    "    os.mkdir(f'data/{type}/chars/{id}')\n",
    "\n",
    "    for line_type in ['surname', 'name', 'code']:\n",
    "        os.mkdir(f'data/{type}/chars/{id}/{line_type}')\n",
    "        if isinstance(df_tmp.iloc[j][line_type], str):\n",
    "            if ',' not in df_tmp.iloc[j][line_type]:\n",
    "                chars_num=len(df_tmp.iloc[j][line_type])\n",
    "\n",
    "                x,y=coords[line_type]\n",
    "                img_t=img[x-boundary_adj:x+boundary_adj+height, y-boundary_adj:y+boundary_adj+width*chars_num+step*(chars_num-1)]\n",
    "\n",
    "                (C, M, Y, K) = rgb2smyk(img_t)\n",
    "\n",
    "                thresh, binaryImage = cv2.threshold(Y, 0, 255, cv2.THRESH_BINARY + cv2.THRESH_OTSU)\n",
    "\n",
    "                label_image = measure.label(binaryImage)\n",
    "\n",
    "                labels=np.sort(np.unique(label_image))\n",
    "                labels_num=[len(np.where(label_image==label)[0]) for label in labels][1:]\n",
    "\n",
    "                chars_labels=np.where(labels_num>np.mean(labels_num)/2)[0]+1\n",
    "                chars_labels=np.append(chars_labels, 0)\n",
    "\n",
    "                tmp_img=np.zeros(binaryImage.shape)\n",
    "                for label in chars_labels:\n",
    "                    tmp_img+=np.where(label_image==label, binaryImage, 0)\n",
    "\n",
    "                imgs=[]\n",
    "\n",
    "                img_width=tmp_img.shape[1]//chars_num\n",
    "                bad_indices=[]\n",
    "                for i in range(chars_num):\n",
    "                    char_img=tmp_img[:,i*img_width:(i+1)*img_width]\n",
    "\n",
    "                    (y_min,y_max, flag)=crop(char_img)\n",
    "\n",
    "                    if flag:\n",
    "\n",
    "                        y_min_h,y_min_v=y_min\n",
    "                        y_max_h,y_max_v=y_max\n",
    "\n",
    "                        y_min_h=y_min_h-N\n",
    "                        if y_min_h<0:\n",
    "                            y_min_h=0\n",
    "\n",
    "                        y_min_v=y_min_v-N\n",
    "                        if y_min_v<0:\n",
    "                            y_min_v=0\n",
    "\n",
    "                        char_img_cropped=char_img[y_min_v:y_max_v+N, y_min_h:y_max_h+N]\n",
    "                    else:\n",
    "                        bad_indices.append(i)\n",
    "                        char_img_cropped=char_img\n",
    "\n",
    "                    char_img_cropped=transform.resize(char_img_cropped, (32,32,1))\n",
    "                    imgs.append(char_img_cropped)\n",
    "\n",
    "                for k, img_t in enumerate(imgs):\n",
    "                    char=translit_dict.get(df_tmp.iloc[j][line_type][k])\n",
    "                    if char is not None:\n",
    "                        if k not in bad_indices:\n",
    "                            name=f'data/{type}/chars/{id}/{line_type}/{k}_{char}_correct.jpg'\n",
    "                            df_tmp.iloc[j, df_tmp.columns.get_loc(line_type+'_doc')] = True\n",
    "                            # new_df.append(np.append(df_tmp.iloc[j][line_type+'_doc'].values,True ))\n",
    "                        else:\n",
    "                            name=f'data/{type}/chars/{id}/{line_type}/{k}_{char}_error.jpg'\n",
    "                            df_tmp.iloc[j, df_tmp.columns.get_loc(line_type+'_doc')] = False\n",
    "                        io.imsave(name, img_t.astype(np.uint8))\n",
    "\n",
    "# new_df=pd.DataFrame(new_df, columns=tmp_df.columns)"
   ],
   "metadata": {
    "collapsed": false
   }
  }
 ],
 "metadata": {
  "kernelspec": {
   "name": "torch",
   "language": "python",
   "display_name": "torch"
  },
  "language_info": {
   "codemirror_mode": {
    "name": "ipython",
    "version": 2
   },
   "file_extension": ".py",
   "mimetype": "text/x-python",
   "name": "python",
   "nbconvert_exporter": "python",
   "pygments_lexer": "ipython2",
   "version": "2.7.6"
  }
 },
 "nbformat": 4,
 "nbformat_minor": 0
}
