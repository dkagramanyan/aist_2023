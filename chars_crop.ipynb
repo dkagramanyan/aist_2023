{
 "cells": [
  {
   "cell_type": "code",
   "execution_count": null,
   "metadata": {
    "collapsed": true
   },
   "outputs": [],
   "source": [
    "import numpy as np\n",
    "from skimage import io, transform, color, filters\n",
    "from matplotlib import pyplot as plt\n",
    "from skimage.morphology import disk, ball\n",
    "from skimage.filters import threshold_otsu, median\n",
    "\n",
    "import cv2\n",
    "import glob\n",
    "from tqdm.notebook import tqdm\n",
    "\n",
    "from numba import jit\n",
    "import pandas as pd\n",
    "from scipy.signal import argrelextrema\n",
    "from statsmodels.tsa.api import SimpleExpSmoothing\n",
    "from scipy.signal import find_peaks\n",
    "\n",
    "from PIL import Image\n",
    "from skimage import measure"
   ]
  },
  {
   "cell_type": "code",
   "execution_count": null,
   "outputs": [],
   "source": [
    "df=pd.read_csv('grades.csv')\n",
    "\n",
    "df"
   ],
   "metadata": {
    "collapsed": false
   }
  },
  {
   "cell_type": "markdown",
   "source": [
    "## Header crop"
   ],
   "metadata": {
    "collapsed": false
   }
  },
  {
   "cell_type": "code",
   "execution_count": null,
   "outputs": [],
   "source": [
    "images_path='data/msk22/blanks_aligned_jpg/'\n",
    "new_folder='data/msk22/headers_jpg/'\n",
    "\n",
    "files_paths=glob.glob('data/msk22/blanks_aligned_jpg/*.jpg')\n",
    "files_paths=[path.split('\\\\')[-1][:-4] for path in files_paths]\n",
    "\n",
    "for id in tqdm(files_paths):\n",
    "\n",
    "    img_path=images_path+id+'.jpg'\n",
    "    img=io.imread(img_path)\n",
    "    # msk22\n",
    "    img =img[230:748,75:1390]\n",
    "\n",
    "    # nov23\n",
    "    # img = img[185:725, 90:1400]\n",
    "\n",
    "    # msk 23\n",
    "    # img = img[212:740, 70:1350]\n",
    "\n",
    "    new_img_path=new_folder+id+'.jpg'\n",
    "    io.imsave(new_img_path, img)"
   ],
   "metadata": {
    "collapsed": false
   }
  },
  {
   "cell_type": "markdown",
   "source": [
    "## Update metadata"
   ],
   "metadata": {
    "collapsed": false
   }
  },
  {
   "cell_type": "code",
   "execution_count": null,
   "outputs": [],
   "source": [
    "df=pd.read_csv('grades.csv')\n",
    "\n",
    "new_df=[]\n",
    "\n",
    "files_paths=glob.glob('data/nov23/headers_aligned_jpg/*.jpg')\n",
    "files_paths=[path.split('\\\\')[-1][:-4] for path in files_paths]\n",
    "\n",
    "tmp_df=df[df.type=='nov23']\n",
    "for i in tqdm(range(len(tmp_df))):\n",
    "    id=tmp_df.iloc[i]['id']\n",
    "    if id in files_paths:\n",
    "        new_df.append(tmp_df.iloc[i])\n",
    "\n",
    "new_df=pd.DataFrame(new_df,columns=df.columns)\n",
    "new_df['aligned_doc']=True\n",
    "new_df.to_csv('grades_nov23.csv',index=False)"
   ],
   "metadata": {
    "collapsed": false
   }
  },
  {
   "cell_type": "code",
   "execution_count": null,
   "outputs": [],
   "source": [
    "df1=pd.read_csv('grades_nov23.csv')\n",
    "df2=pd.read_csv('grades_msk23.csv')\n",
    "df3=pd.read_csv('grades_msk22.csv')\n",
    "\n",
    "df=pd.concat([df1,df2,df3])\n",
    "\n",
    "df.to_csv('grades.csv')"
   ],
   "metadata": {
    "collapsed": false
   }
  },
  {
   "cell_type": "code",
   "execution_count": null,
   "outputs": [],
   "source": [
    "df"
   ],
   "metadata": {
    "collapsed": false
   }
  },
  {
   "cell_type": "markdown",
   "source": [
    "## Crop chars"
   ],
   "metadata": {
    "collapsed": false
   }
  },
  {
   "cell_type": "code",
   "execution_count": null,
   "outputs": [],
   "source": [
    "def crop(gra_f):\n",
    "    mean_pixel_column=[]\n",
    "    for j in range(gra_f.shape[1]):\n",
    "        pixels=[]\n",
    "        for i in range(gra_f.shape[0]):\n",
    "            pixels.append(gra_f[i,j])\n",
    "        mean_pixel_column.append(np.mean(pixels))\n",
    "\n",
    "    deriv=np.gradient(mean_pixel_column)\n",
    "\n",
    "    fit1 = SimpleExpSmoothing(deriv).fit(smoothing_level=0.2,optimized=False).fittedvalues\n",
    "\n",
    "    x_min=find_peaks(fit1,)[0][0]\n",
    "\n",
    "    min_extremax=argrelextrema(fit1, np.less)[0]\n",
    "\n",
    "    if len(min_extremax)>1:\n",
    "        x_max=min_extremax[-2]\n",
    "    else:\n",
    "        x_max=min_extremax[-1]\n",
    "\n",
    "    return x_min, x_max\n"
   ],
   "metadata": {
    "collapsed": false
   }
  },
  {
   "cell_type": "code",
   "execution_count": null,
   "outputs": [],
   "source": [
    "@jit(nopython=True)\n",
    "def frame_image(img, frame_width):\n",
    "    b = frame_width # border size in pixel\n",
    "    ny, nx = img.shape[0], img.shape[1] # resolution / number of pixels in x and y\n",
    "    framed_img = np.ones((b+ny+b, b+nx+b))\n",
    "    framed_img[b:-b, b:-b] = img\n",
    "    return framed_img"
   ],
   "metadata": {
    "collapsed": false
   }
  },
  {
   "cell_type": "code",
   "execution_count": null,
   "outputs": [],
   "source": [
    "def rgb2smyk(bgr):\n",
    "    bgrdash = bgr.astype(np.float)/255.\n",
    "\n",
    "    # Calculate K as (1 - whatever is biggest out of Rdash, Gdash, Bdash)\n",
    "    K = 1 - np.max(bgrdash, axis=2)\n",
    "\n",
    "    # Calculate C\n",
    "    C = (1-bgrdash[...,2] - K)/(1-K)\n",
    "\n",
    "    # Calculate M\n",
    "    M = (1-bgrdash[...,1] - K)/(1-K)\n",
    "\n",
    "    # Calculate Y\n",
    "    Y = (1-bgrdash[...,0] - K)/(1-K)\n",
    "\n",
    "    K*=255\n",
    "    K=K.astype(np.uint8)\n",
    "\n",
    "    C*=255\n",
    "    C=C.astype(np.uint8)\n",
    "\n",
    "    M*=255\n",
    "    M=M.astype(np.uint8)\n",
    "\n",
    "    Y*=255\n",
    "    Y=Y.astype(np.uint8)\n",
    "\n",
    "    return C,M,Y,K"
   ],
   "metadata": {
    "collapsed": false
   }
  },
  {
   "cell_type": "code",
   "execution_count": null,
   "outputs": [],
   "source": [
    "tmp_img=median(img,ball(1))\n",
    "(C, M, Y, K) = rgb2smyk(tmp_img)\n",
    "\n",
    "thresh, binaryImage = cv2.threshold(Y, 0, 255, cv2.THRESH_BINARY + cv2.THRESH_OTSU)\n",
    "\n",
    "label_image = measure.label(binaryImage)\n",
    "\n",
    "labels=np.sort(np.unique(label_image))\n",
    "labels_num=[len(np.where(label_image==label)[0]) for label in labels][1:]\n",
    "\n",
    "chars_labels=np.where(labels_num>np.mean(labels_num)/2)[0]+1\n",
    "chars_labels=np.append(chars_labels, 0)\n",
    "\n",
    "tmp_img=np.zeros(binaryImage.shape)\n",
    "for label in chars_labels:\n",
    "    tmp_img+=np.where(label_image==label, binaryImage, 0)\n",
    "\n",
    "plt.figure(figsize=(15,6))\n",
    "plt.imshow(tmp_img,cmap='gray')\n",
    "plt.show()"
   ],
   "metadata": {
    "collapsed": false
   }
  },
  {
   "cell_type": "code",
   "execution_count": null,
   "outputs": [],
   "source": [
    "img=io.imread('msk22_ref_header_62263_5.jpg')\n",
    "chars_num=9\n",
    "\n",
    "coords={'surname':[82,46], 'name':[215, 46], 'code':[348, 46]}\n",
    "width=45\n",
    "height=55\n",
    "step=6\n",
    "boundary_adj=3\n",
    "\n",
    "line_type='surname'\n",
    "x,y=coords[line_type]\n",
    "img=img[x-boundary_adj:x+boundary_adj+height, y-boundary_adj:y+boundary_adj+width*chars_num+step*(chars_num-1)]\n",
    "\n",
    "\n",
    "tmp_img=median(img,ball(1))\n",
    "(C, M, Y, K) = rgb2smyk(tmp_img)\n",
    "\n",
    "thresh, binaryImage = cv2.threshold(Y, 0, 255, cv2.THRESH_BINARY + cv2.THRESH_OTSU)\n",
    "\n",
    "label_image = measure.label(binaryImage)\n",
    "\n",
    "labels=np.sort(np.unique(label_image))\n",
    "labels_num=[len(np.where(label_image==label)[0]) for label in labels][1:]\n",
    "\n",
    "chars_labels=np.where(labels_num>np.mean(labels_num)/2)[0]+1\n",
    "chars_labels=np.append(chars_labels, 0)\n",
    "\n",
    "tmp_img=np.zeros(binaryImage.shape)\n",
    "for label in chars_labels:\n",
    "    tmp_img+=np.where(label_image==label, binaryImage, 0)\n",
    "\n",
    "# y_min, y_max=crop(gra_f)\n",
    "#\n",
    "# N=20\n",
    "# y_min=y_min-N\n",
    "# if y_min<0:\n",
    "#     y_min=0\n",
    "\n",
    "# gra_f=gra_f[:, y_min:y_max+N]\n",
    "\n",
    "# img_t=transform.resize(gra_f, (28,28,1))\n",
    "\n",
    "\n",
    "fig,(ax1,ax2, ax3)=plt.subplots(1,3, figsize=(25,6))\n",
    "\n",
    "ax1.imshow(img)\n",
    "ax2.imshow(Y,cmap='gray')\n",
    "ax3.imshow(tmp_img,cmap='gray')\n",
    "\n",
    "plt.show()\n"
   ],
   "metadata": {
    "collapsed": false
   }
  },
  {
   "cell_type": "code",
   "execution_count": null,
   "outputs": [],
   "source": [
    "# msk22\n",
    "# coords=[[83,46], [215, 46], [348, 46]]\n",
    "# width=45\n",
    "# height=55\n",
    "\n",
    "# msk23\n",
    "# coords=[[87,49], [220, 49], [353, 49]]\n",
    "# width=45\n",
    "# height=55\n",
    "\n",
    "# nov23\n",
    "coords=[[96,39], [228, 39], [363, 39]]\n",
    "width=45\n",
    "height=55\n",
    "\n",
    "step=7\n",
    "\n",
    "type='nov23'\n",
    "\n",
    "df=pd.read_csv('grades.csv')\n",
    "\n",
    "files_paths=glob.glob(f'data/{type}/headers_aligned_jpg/*.jpg')\n",
    "files_ids=[path.split('\\\\')[-1][:-4] for path in files_paths]\n",
    "\n",
    "for path in files_paths:\n",
    "    img=io.imread(path)\n"
   ],
   "metadata": {
    "collapsed": false
   }
  }
 ],
 "metadata": {
  "kernelspec": {
   "name": "torch",
   "language": "python",
   "display_name": "torch"
  },
  "language_info": {
   "codemirror_mode": {
    "name": "ipython",
    "version": 2
   },
   "file_extension": ".py",
   "mimetype": "text/x-python",
   "name": "python",
   "nbconvert_exporter": "python",
   "pygments_lexer": "ipython2",
   "version": "2.7.6"
  }
 },
 "nbformat": 4,
 "nbformat_minor": 0
}
