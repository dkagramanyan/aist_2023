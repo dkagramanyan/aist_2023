{
 "cells": [
  {
   "cell_type": "code",
   "execution_count": null,
   "metadata": {
    "collapsed": true
   },
   "outputs": [],
   "source": [
    "import pandas as pd\n",
    "import numpy as np\n",
    "import skimage\n",
    "from skimage import io\n",
    "\n",
    "import glob\n",
    "from matplotlib import pyplot as plt\n",
    "from tqdm.notebook import tqdm\n",
    "\n",
    "from pdf2image import convert_from_path\n",
    "import glob\n",
    "import zipfile\n",
    "from tqdm.notebook import tqdm\n",
    "from skimage import io\n",
    "import numpy as np\n",
    "import fitz\n",
    "import cv2"
   ]
  },
  {
   "cell_type": "code",
   "execution_count": null,
   "outputs": [],
   "source": [
    "df=pd.read_csv('grades.csv')\n",
    "\n",
    "df"
   ],
   "metadata": {
    "collapsed": false
   }
  },
  {
   "cell_type": "markdown",
   "source": [
    "## Header crop"
   ],
   "metadata": {
    "collapsed": false
   }
  },
  {
   "cell_type": "code",
   "execution_count": null,
   "outputs": [],
   "source": [
    "images_path='data/msk22/blanks_aligned_jpg/'\n",
    "new_folder='data/msk22/headers_jpg/'\n",
    "\n",
    "files_paths=glob.glob('data/msk22/blanks_aligned_jpg/*.jpg')\n",
    "files_paths=[path.split('\\\\')[-1][:-4] for path in files_paths]\n",
    "\n",
    "for id in tqdm(files_paths):\n",
    "\n",
    "    img_path=images_path+id+'.jpg'\n",
    "    img=io.imread(img_path)\n",
    "    # msk22\n",
    "    img =img[230:748,75:1390]\n",
    "\n",
    "    # nov23\n",
    "    # img = img[185:725, 90:1400]\n",
    "\n",
    "    # msk 23\n",
    "    # img = img[212:740, 70:1350]\n",
    "\n",
    "    new_img_path=new_folder+id+'.jpg'\n",
    "    io.imsave(new_img_path, img)"
   ],
   "metadata": {
    "collapsed": false
   }
  },
  {
   "cell_type": "markdown",
   "source": [
    "## Update metadata"
   ],
   "metadata": {
    "collapsed": false
   }
  },
  {
   "cell_type": "code",
   "execution_count": null,
   "outputs": [],
   "source": [
    "df=pd.read_csv('grades.csv')\n",
    "\n",
    "new_df=[]\n",
    "\n",
    "files_paths=glob.glob('data/nov23/headers_aligned_jpg/*.jpg')\n",
    "files_paths=[path.split('\\\\')[-1][:-4] for path in files_paths]\n",
    "\n",
    "tmp_df=df[df.type=='nov23']\n",
    "for i in tqdm(range(len(tmp_df))):\n",
    "    id=tmp_df.iloc[i]['id']\n",
    "    if id in files_paths:\n",
    "        new_df.append(tmp_df.iloc[i])\n",
    "\n",
    "new_df=pd.DataFrame(new_df,columns=df.columns)\n",
    "new_df['aligned_doc']=True\n",
    "new_df.to_csv('grades_nov23.csv',index=False)"
   ],
   "metadata": {
    "collapsed": false
   }
  },
  {
   "cell_type": "code",
   "execution_count": null,
   "outputs": [],
   "source": [
    "df1=pd.read_csv('grades_nov23.csv')\n",
    "df2=pd.read_csv('grades_msk23.csv')\n",
    "df3=pd.read_csv('grades_msk22.csv')\n",
    "\n",
    "df=pd.concat([df1,df2,df3])\n",
    "\n",
    "df.to_csv('grades.csv')"
   ],
   "metadata": {
    "collapsed": false
   }
  },
  {
   "cell_type": "code",
   "execution_count": null,
   "outputs": [],
   "source": [
    "df"
   ],
   "metadata": {
    "collapsed": false
   }
  },
  {
   "cell_type": "markdown",
   "source": [
    "## Crop chars"
   ],
   "metadata": {
    "collapsed": false
   }
  },
  {
   "cell_type": "code",
   "execution_count": null,
   "outputs": [],
   "source": [
    "# msk22\n",
    "# coords=[[83,46], [215, 46], [348, 46]]\n",
    "# width=45\n",
    "# height=55\n",
    "\n",
    "# msk23\n",
    "# coords=[[87,49], [220, 49], [353, 49]]\n",
    "# width=45\n",
    "# height=55\n",
    "\n",
    "# nov23\n",
    "coords=[[96,39], [228, 39], [363, 39]]\n",
    "width=45\n",
    "height=55\n",
    "\n",
    "step=7\n",
    "\n",
    "type='nov23'\n",
    "\n",
    "df=pd.read_csv('grades.csv')\n",
    "\n",
    "files_paths=glob.glob(f'data/{type}/headers_aligned_jpg/*.jpg')\n",
    "files_ids=[path.split('\\\\')[-1][:-4] for path in files_paths]\n",
    "\n",
    "for path in files_paths:\n",
    "    img=io.imread(path)\n"
   ],
   "metadata": {
    "collapsed": false
   }
  }
 ],
 "metadata": {
  "kernelspec": {
   "name": "torch",
   "language": "python",
   "display_name": "torch"
  },
  "language_info": {
   "codemirror_mode": {
    "name": "ipython",
    "version": 2
   },
   "file_extension": ".py",
   "mimetype": "text/x-python",
   "name": "python",
   "nbconvert_exporter": "python",
   "pygments_lexer": "ipython2",
   "version": "2.7.6"
  }
 },
 "nbformat": 4,
 "nbformat_minor": 0
}
