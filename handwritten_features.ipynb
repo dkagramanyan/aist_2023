{
 "cells": [
  {
   "cell_type": "code",
   "execution_count": null,
   "metadata": {
    "collapsed": true
   },
   "outputs": [],
   "source": [
    "import pandas as pd\n",
    "import glob\n",
    "\n",
    "import os\n",
    "from skimage import io, measure, morphology\n",
    "import numpy as np\n",
    "\n",
    "from matplotlib import pyplot as plt\n",
    "import cv2\n",
    "from tqdm.notebook import tqdm"
   ]
  },
  {
   "cell_type": "markdown",
   "source": [
    "## Split text by unique word's contours"
   ],
   "metadata": {
    "collapsed": false
   }
  },
  {
   "cell_type": "code",
   "execution_count": null,
   "outputs": [],
   "source": [
    "img=io.imread('62263_1.jpg')\n",
    "\n",
    "plt.imshow(img)"
   ],
   "metadata": {
    "collapsed": false
   }
  },
  {
   "cell_type": "code",
   "execution_count": null,
   "outputs": [],
   "source": [
    "def rgb2smyk(bgr):\n",
    "    bgrdash = bgr.astype(np.float32)/255.\n",
    "\n",
    "    # Calculate K as (1 - whatever is biggest out of Rdash, Gdash, Bdash)\n",
    "    K = 1 - np.max(bgrdash, axis=2)\n",
    "\n",
    "    # Calculate C\n",
    "    C = (1-bgrdash[...,2] - K)/(1-K)\n",
    "\n",
    "    # Calculate M\n",
    "    M = (1-bgrdash[...,1] - K)/(1-K)\n",
    "\n",
    "    # Calculate Y\n",
    "    Y = (1-bgrdash[...,0] - K)/(1-K)\n",
    "\n",
    "    K*=255\n",
    "    K=K.astype(np.uint8)\n",
    "\n",
    "    C*=255\n",
    "    C=C.astype(np.uint8)\n",
    "\n",
    "    M*=255\n",
    "    M=M.astype(np.uint8)\n",
    "\n",
    "    Y*=255\n",
    "    Y=Y.astype(np.uint8)\n",
    "\n",
    "    return C,M,Y,K"
   ],
   "metadata": {
    "collapsed": false
   }
  },
  {
   "cell_type": "code",
   "execution_count": null,
   "outputs": [],
   "source": [
    "# name='62263_1.jpg'\n",
    "name='00200_163.jpg'\n",
    "\n",
    "N_lines=30\n",
    "height=60\n",
    "\n",
    "img=io.imread(name)\n",
    "\n",
    "# for k in range(N_lines):\n",
    "\n",
    "\n",
    "(C, M, Y, K) = rgb2smyk(img)\n",
    "\n",
    "thresh, binaryImage = cv2.threshold(Y, 0, 255, cv2.THRESH_BINARY + cv2.THRESH_OTSU)\n",
    "\n",
    "# thresh=threshold_otsu(Y)\n",
    "thresh*=0.8\n",
    "binaryImage=Y>thresh\n",
    "\n",
    "binaryImage=binaryImage*255\n",
    "binaryImage=binaryImage.astype(np.uint8)\n",
    "\n",
    "# binaryImage=morphology.binary_dilation(binaryImage, morphology.disk(1))\n",
    "\n",
    "kernel = cv2.getStructuringElement(cv2.MORPH_RECT, ksize=(1, 3))\n",
    "\n",
    "dilated_image = cv2.dilate(binaryImage, kernel)\n",
    "\n",
    "labeled_image = measure.label(dilated_image)\n",
    "\n",
    "labels=np.sort(np.unique(labeled_image))\n",
    "colors=[[np.random.uniform(0,255),np.random.uniform(0,255),np.random.uniform(0,255)] for label in labels]\n",
    "\n",
    "colored_img=np.zeros((img.shape[0],img.shape[1],3))\n",
    "for i,line in enumerate(labeled_image):\n",
    "    for j,label in enumerate(line):\n",
    "        if label!=0:\n",
    "            colored_img[i,j]=colors[label]\n",
    "\n",
    "colored_img=np.array(colored_img,dtype=np.uint8)\n",
    "\n",
    "fig,(ax1,ax2,ax3)=plt.subplots(1,3,figsize=(20,10))\n",
    "ax1.imshow(binaryImage, cmap='gray')\n",
    "ax2.imshow(dilated_image)\n",
    "ax3.imshow(colored_img)\n",
    "plt.show()"
   ],
   "metadata": {
    "collapsed": false
   }
  },
  {
   "cell_type": "code",
   "execution_count": null,
   "outputs": [],
   "source": [
    "# name='62263_1.jpg'\n",
    "name='00200_163.jpg'\n",
    "img=io.imread(name)\n",
    "\n",
    "(C, M, Y, K) = rgb2smyk(img)\n",
    "\n",
    "thresh, binaryImage = cv2.threshold(Y, 0, 255, cv2.THRESH_BINARY + cv2.THRESH_OTSU)\n",
    "\n",
    "thresh*=0.8\n",
    "binaryImage=Y>thresh\n",
    "\n",
    "dilated_image=morphology.binary_dilation(binaryImage, morphology.disk(3))\n",
    "\n",
    "dilated_image=dilated_image*255\n",
    "dilated_image=dilated_image.astype(np.uint8)\n",
    "\n",
    "\n",
    "edges = cv2.Canny(dilated_image, 0, 255, L2gradient=False)\n",
    "\n",
    "# направление обхода контура по часовой стрелке\n",
    "contours, _ = cv2.findContours(edges, cv2.RETR_EXTERNAL, cv2.CHAIN_APPROX_NONE)\n",
    "new_contours = []\n",
    "for cnt in contours:\n",
    "    new_contours.append(np.array(cnt).reshape((-1, 2)))\n",
    "\n",
    "labeled_image = measure.label(edges)\n",
    "\n",
    "labels=np.sort(np.unique(labeled_image))\n",
    "colors=[[np.random.uniform(0,255),np.random.uniform(0,255),np.random.uniform(0,255)] for label in labels]\n",
    "\n",
    "colored_img=np.zeros((img.shape[0],img.shape[1],3))\n",
    "for i,line in enumerate(labeled_image):\n",
    "    for j,label in enumerate(line):\n",
    "        if label!=0:\n",
    "            colored_img[i,j]=colors[label]\n",
    "\n",
    "colored_img=np.array(colored_img,dtype=np.uint8)\n",
    "\n",
    "fig,(ax1,ax2,ax3)=plt.subplots(1,3,figsize=(20,10))\n",
    "ax1.imshow(dilated_image[:1000,:1000], cmap='gray')\n",
    "ax2.imshow(edges[:1000,:1000], cmap='gray')\n",
    "ax3.imshow(colored_img[:1000,:1000])\n",
    "plt.show()"
   ],
   "metadata": {
    "collapsed": false
   }
  },
  {
   "cell_type": "markdown",
   "source": [
    "## Slope"
   ],
   "metadata": {
    "collapsed": false
   }
  },
  {
   "cell_type": "code",
   "execution_count": null,
   "outputs": [],
   "source": [
    "def chaincode(b, unwrap=False):\n",
    "    '''\n",
    "    Direction-to-code convention:\n",
    "    --------------------------\n",
    "    | deltax | deltay | code |\n",
    "    |------------------------|    y\n",
    "    |    0   |   +1   |   2  |    ^     3  2  1\n",
    "    |    0   |   -1   |   6  |    |      \\ | /\n",
    "    |   -1   |   +1   |   3  |    |   4 -- P -- 0\n",
    "    |   -1   |   -1   |   5  |    |      / | \\ \\\n",
    "    |   +1   |   +1   |   1  |    |     5  6  7\n",
    "    |   +1   |   -1   |   7  |    |\n",
    "    |   -1   |    0   |   4  |    +-------------> x\n",
    "    |   +1   |    0   |   0  |\n",
    "    --------------------------\n",
    "    '''\n",
    "    delta = np.zeros(b.shape, dtype=int)\n",
    "    delta[:-1, :] = b[1:, :] - b[:-1, :]\n",
    "    delta[-1, :] = b[0, :] - b[-1, :]\n",
    "\n",
    "    # check if boundary is 8-connected\n",
    "    if ((np.abs(delta[:, 0]) > 1) + (np.abs(delta[:, 1]) > 1)).any():\n",
    "        raise ValueError('Curve is not 8-connected.')\n",
    "\n",
    "    # check if boundary is close, if so cut last element\n",
    "    if (np.abs(delta[-1, :]) == 0).all():\n",
    "        delta = delta[:-1, :]\n",
    "\n",
    "    if ((np.abs(delta[:, 0]) == 0) * (np.abs(delta[:, 1]) == 0)).any():\n",
    "        raise ValueError('Curve is degenerate.')\n",
    "\n",
    "    idx = 3 * delta[:, 0] + delta[:, 1] + 4\n",
    "    cm = np.array([5, 6, 7, 4, -1, 0, 3, 2, 1])\n",
    "    cc = cm[idx]\n",
    "\n",
    "    if unwrap:\n",
    "        ucc = cc.copy()\n",
    "        for i in range(1, ucc.shape[0]):\n",
    "            ucc[i] += 8*np.round((ucc[i-1] - cc[i])/8.)\n",
    "        return cc, b[0, :], ucc\n",
    "    else:\n",
    "        # return cc, b[0, :]\n",
    "        return cc"
   ],
   "metadata": {
    "collapsed": false
   }
  },
  {
   "cell_type": "code",
   "execution_count": null,
   "outputs": [],
   "source": [
    "# name='62263_1.jpg'\n",
    "# name='67205_2.jpg'\n",
    "# name='00201_73.jpg'\n",
    "# name='67205_3.jpg'\n",
    "name='62325_1_12.jpg'\n",
    "# name='00200_163.jpg'\n",
    "img=io.imread(name)\n",
    "\n",
    "(C, M, Y, K) = rgb2smyk(img)\n",
    "\n",
    "thresh, binaryImage = cv2.threshold(Y, 0, 255, cv2.THRESH_BINARY + cv2.THRESH_OTSU)\n",
    "\n",
    "thresh*=0.8\n",
    "binaryImage=Y>thresh\n",
    "\n",
    "dilated_image=morphology.binary_dilation(binaryImage, morphology.disk(3))\n",
    "\n",
    "dilated_image=dilated_image*255\n",
    "dilated_image=dilated_image.astype(np.uint8)\n",
    "\n",
    "\n",
    "edges = cv2.Canny(dilated_image, 0, 255, L2gradient=False)\n",
    "\n",
    "# направление обхода контура по часовой стрелке\n",
    "contours, _ = cv2.findContours(edges, cv2.RETR_EXTERNAL, cv2.CHAIN_APPROX_NONE)\n",
    "new_contours = []\n",
    "\n",
    "for cnt in contours:\n",
    "    if len(cnt)>5:\n",
    "        new_contours.append(np.array(cnt).reshape((-1, 2)))\n",
    "\n",
    "# new_contours=np.array(new_contours)"
   ],
   "metadata": {
    "collapsed": false
   }
  },
  {
   "cell_type": "code",
   "execution_count": null,
   "outputs": [],
   "source": [
    "# '62325_1_12.jpg'\n",
    "#  ровный\n",
    "freeman_chains=[]\n",
    "for cnt in new_contours:\n",
    "    freeman_chains.extend(chaincode(cnt))\n",
    "\n",
    "plt.hist(freeman_chains,bins=8)\n",
    "plt.show()"
   ],
   "metadata": {
    "collapsed": false
   }
  },
  {
   "cell_type": "code",
   "execution_count": null,
   "outputs": [],
   "source": [
    "# '00201_73.jpg'\n",
    "# ровный\n",
    "freeman_chains=[]\n",
    "for cnt in new_contours:\n",
    "    freeman_chains.extend(chaincode(cnt))\n",
    "\n",
    "plt.hist(freeman_chains,bins=8)\n",
    "plt.show()"
   ],
   "metadata": {
    "collapsed": false
   }
  },
  {
   "cell_type": "code",
   "execution_count": null,
   "outputs": [],
   "source": [
    "# '67205_2.jpg'\n",
    "# наклон вправо\n",
    "freeman_chains=[]\n",
    "for cnt in new_contours:\n",
    "    freeman_chains.extend(chaincode(cnt))\n",
    "\n",
    "plt.hist(freeman_chains,bins=8)\n",
    "plt.show()"
   ],
   "metadata": {
    "collapsed": false
   }
  },
  {
   "cell_type": "code",
   "execution_count": null,
   "outputs": [],
   "source": [
    "# '67205_3.jpg'\n",
    "# вправо сильно\n",
    "freeman_chains=[]\n",
    "for cnt in new_contours:\n",
    "    freeman_chains.extend(chaincode(cnt))\n",
    "\n",
    "plt.hist(freeman_chains,bins=8)\n",
    "plt.show()"
   ],
   "metadata": {
    "collapsed": false
   }
  },
  {
   "cell_type": "code",
   "execution_count": null,
   "outputs": [],
   "source": [],
   "metadata": {
    "collapsed": false
   }
  },
  {
   "cell_type": "markdown",
   "source": [
    "## Fractal dimention"
   ],
   "metadata": {
    "collapsed": false
   }
  },
  {
   "cell_type": "code",
   "execution_count": null,
   "outputs": [],
   "source": [
    "# name='62263_1.jpg'\n",
    "name='00200_163.jpg'\n",
    "img=io.imread(name)\n",
    "\n",
    "(C, M, Y, K) = rgb2smyk(img)\n",
    "\n",
    "thresh, binaryImage = cv2.threshold(Y, 0, 255, cv2.THRESH_BINARY + cv2.THRESH_OTSU)\n",
    "\n",
    "thresh*=0.8\n",
    "binaryImage=Y>thresh\n",
    "\n",
    "dilated_image=morphology.binary_dilation(binaryImage, morphology.disk(3))\n",
    "\n",
    "dilated_image=dilated_image*255\n",
    "dilated_image=dilated_image.astype(np.uint8)\n",
    "\n",
    "\n",
    "edges = cv2.Canny(dilated_image, 0, 255, L2gradient=False)\n",
    "\n",
    "# fig,(ax1,ax2,ax3)=plt.subplots(1,3,figsize=(20,10))\n",
    "# ax1.imshow(dilated_image[:1000,:1000], cmap='gray')\n",
    "# ax2.imshow(edges[:1000,:1000], cmap='gray')\n",
    "# # ax3.imshow(colored_img[:1000,:1000])\n",
    "# plt.show()"
   ],
   "metadata": {
    "collapsed": false
   }
  },
  {
   "cell_type": "code",
   "execution_count": null,
   "outputs": [],
   "source": [
    "imgs_sums=[]\n",
    "r=20\n",
    "\n",
    "name='00200_163.jpg'\n",
    "img=io.imread(name)\n",
    "\n",
    "for i in tqdm(range(img.shape[0]//r)):\n",
    "    for j in range(img.shape[1]//r):\n",
    "        img_crop=edges[i*r:(i+1)*r,j*r:(j+1)*r]\n",
    "        img_sum=np.sum(img_crop)\n",
    "        imgs_sums.append(img_sum)\n",
    "imgs_sums=np.array(imgs_sums)\n",
    "\n",
    "fr=np.log(np.where(imgs_sums!=0)[0].shape[0])/np.log(1/r)\n",
    "print(fr)"
   ],
   "metadata": {
    "collapsed": false
   }
  },
  {
   "cell_type": "markdown",
   "source": [
    "5 = -6.5\n",
    "\n",
    "10 = -4.2\n",
    "\n",
    "20 = -2.89\n",
    "\n"
   ],
   "metadata": {
    "collapsed": false
   }
  }
 ],
 "metadata": {
  "kernelspec": {
   "name": "torch",
   "language": "python",
   "display_name": "torch"
  },
  "language_info": {
   "codemirror_mode": {
    "name": "ipython",
    "version": 2
   },
   "file_extension": ".py",
   "mimetype": "text/x-python",
   "name": "python",
   "nbconvert_exporter": "python",
   "pygments_lexer": "ipython2",
   "version": "2.7.6"
  }
 },
 "nbformat": 4,
 "nbformat_minor": 0
}
