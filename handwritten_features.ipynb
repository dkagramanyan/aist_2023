{
 "cells": [
  {
   "cell_type": "code",
   "execution_count": null,
   "metadata": {
    "collapsed": true
   },
   "outputs": [],
   "source": [
    "import pandas as pd\n",
    "import glob\n",
    "\n",
    "import os\n",
    "from skimage import io, measure, morphology\n",
    "import numpy as np\n",
    "\n",
    "from matplotlib import pyplot as plt\n",
    "import cv2"
   ]
  },
  {
   "cell_type": "markdown",
   "source": [
    "## Split text by unique word's contours"
   ],
   "metadata": {
    "collapsed": false
   }
  },
  {
   "cell_type": "code",
   "execution_count": null,
   "outputs": [],
   "source": [
    "img=io.imread('62263_1.jpg')\n",
    "\n",
    "plt.imshow(img)"
   ],
   "metadata": {
    "collapsed": false
   }
  },
  {
   "cell_type": "code",
   "execution_count": null,
   "outputs": [],
   "source": [
    "def rgb2smyk(bgr):\n",
    "    bgrdash = bgr.astype(np.float32)/255.\n",
    "\n",
    "    # Calculate K as (1 - whatever is biggest out of Rdash, Gdash, Bdash)\n",
    "    K = 1 - np.max(bgrdash, axis=2)\n",
    "\n",
    "    # Calculate C\n",
    "    C = (1-bgrdash[...,2] - K)/(1-K)\n",
    "\n",
    "    # Calculate M\n",
    "    M = (1-bgrdash[...,1] - K)/(1-K)\n",
    "\n",
    "    # Calculate Y\n",
    "    Y = (1-bgrdash[...,0] - K)/(1-K)\n",
    "\n",
    "    K*=255\n",
    "    K=K.astype(np.uint8)\n",
    "\n",
    "    C*=255\n",
    "    C=C.astype(np.uint8)\n",
    "\n",
    "    M*=255\n",
    "    M=M.astype(np.uint8)\n",
    "\n",
    "    Y*=255\n",
    "    Y=Y.astype(np.uint8)\n",
    "\n",
    "    return C,M,Y,K"
   ],
   "metadata": {
    "collapsed": false
   }
  },
  {
   "cell_type": "code",
   "execution_count": null,
   "outputs": [],
   "source": [
    "# name='62263_1.jpg'\n",
    "name='00200_163.jpg'\n",
    "\n",
    "N_lines=30\n",
    "height=60\n",
    "\n",
    "img=io.imread(name)\n",
    "\n",
    "# for k in range(N_lines):\n",
    "\n",
    "\n",
    "(C, M, Y, K) = rgb2smyk(img)\n",
    "\n",
    "thresh, binaryImage = cv2.threshold(Y, 0, 255, cv2.THRESH_BINARY + cv2.THRESH_OTSU)\n",
    "\n",
    "# thresh=threshold_otsu(Y)\n",
    "thresh*=0.8\n",
    "binaryImage=Y>thresh\n",
    "\n",
    "binaryImage=morphology.binary_dilation(binaryImage, morphology.disk(3))\n",
    "\n",
    "labeled_image = measure.label(binaryImage)\n",
    "\n",
    "labels=np.sort(np.unique(labeled_image))\n",
    "colors=[[np.random.uniform(0,255),np.random.uniform(0,255),np.random.uniform(0,255)] for label in labels]\n",
    "\n",
    "colored_img=np.zeros((img.shape[0],img.shape[1],3))\n",
    "for i,line in enumerate(labeled_image):\n",
    "    for j,label in enumerate(line):\n",
    "        if label!=0:\n",
    "            colored_img[i,j]=colors[label]\n",
    "\n",
    "colored_img=np.array(colored_img,dtype=np.uint8)\n",
    "\n",
    "fig,(ax1,ax2)=plt.subplots(1,2,figsize=(15,10))\n",
    "ax1.imshow(binaryImage, cmap='gray')\n",
    "ax2.imshow(colored_img)\n",
    "plt.show()"
   ],
   "metadata": {
    "collapsed": false
   }
  },
  {
   "cell_type": "code",
   "execution_count": null,
   "outputs": [],
   "source": [
    "labels=np.sort(np.unique(labeled_image))\n",
    "colors=[[np.random.uniform(0,255),np.random.uniform(0,255),np.random.uniform(0,255)] for label in labels]\n",
    "\n",
    "colored_img=np.zeros((img.shape[0],img.shape[1],3))\n",
    "\n",
    "for i,line in enumerate(labeled_image):\n",
    "    for j,label in enumerate(line):\n",
    "        if label!=0:\n",
    "            colored_img[i,j]=colors[label]\n",
    "\n",
    "colored_img=np.array(colored_img,dtype=np.uint8)\n",
    "\n",
    "plt.imshow(colored_img)"
   ],
   "metadata": {
    "collapsed": false
   }
  },
  {
   "cell_type": "code",
   "execution_count": null,
   "outputs": [],
   "source": [
    "colored_img"
   ],
   "metadata": {
    "collapsed": false
   }
  },
  {
   "cell_type": "markdown",
   "source": [
    "## Enclose ellipse"
   ],
   "metadata": {
    "collapsed": false
   }
  },
  {
   "cell_type": "code",
   "execution_count": null,
   "outputs": [],
   "source": [],
   "metadata": {
    "collapsed": false
   }
  },
  {
   "cell_type": "markdown",
   "source": [
    "## Bbox coef"
   ],
   "metadata": {
    "collapsed": false
   }
  },
  {
   "cell_type": "code",
   "execution_count": null,
   "outputs": [],
   "source": [],
   "metadata": {
    "collapsed": false
   }
  },
  {
   "cell_type": "markdown",
   "source": [
    "## Slope"
   ],
   "metadata": {
    "collapsed": false
   }
  },
  {
   "cell_type": "code",
   "execution_count": null,
   "outputs": [],
   "source": [],
   "metadata": {
    "collapsed": false
   }
  },
  {
   "cell_type": "markdown",
   "source": [
    "## Fractal dimention"
   ],
   "metadata": {
    "collapsed": false
   }
  }
 ],
 "metadata": {
  "kernelspec": {
   "name": "torch",
   "language": "python",
   "display_name": "torch"
  },
  "language_info": {
   "codemirror_mode": {
    "name": "ipython",
    "version": 2
   },
   "file_extension": ".py",
   "mimetype": "text/x-python",
   "name": "python",
   "nbconvert_exporter": "python",
   "pygments_lexer": "ipython2",
   "version": "2.7.6"
  }
 },
 "nbformat": 4,
 "nbformat_minor": 0
}
